{
 "cells": [
  {
   "cell_type": "code",
   "execution_count": null,
   "metadata": {},
   "outputs": [],
   "source": [
    "pip install spotipy"
   ]
  },
  {
   "cell_type": "code",
   "execution_count": null,
   "metadata": {},
   "outputs": [],
   "source": [
    "pip install pandas"
   ]
  },
  {
   "cell_type": "code",
   "execution_count": null,
   "metadata": {},
   "outputs": [],
   "source": [
    "%pip install urllib3 --upgrade \n",
    "%pip install requests --upgrade \n",
    "%pip install spotipy --upgrade"
   ]
  },
  {
   "cell_type": "code",
   "execution_count": null,
   "metadata": {},
   "outputs": [],
   "source": [
    "# setup\n",
    "import spotipy\n",
    "from spotipy.oauth2 import SpotifyClientCredentials\n",
    "import os\n",
    "import numpy as np\n",
    "import timeit\n",
    "import pandas as pd\n",
    "from operator import itemgetter\n",
    "import time\n",
    "import datetime as dt\n",
    "import scipy.stats as stats\n",
    "import matplotlib.pyplot as plt\n",
    "from sklearn.preprocessing import StandardScaler\n",
    "from sklearn.decomposition import PCA\n",
    "\n",
    "os.environ['SPOTIPY_CLIENT_ID'] = '3191e7e8b04e46c1af64f49bcdd020be'\n",
    "os.environ['SPOTIPY_CLIENT_SECRET'] = '88dc925eff0d4006bb6d0b9b2401ac59'\n",
    "\n",
    "auth_manager = SpotifyClientCredentials()\n",
    "sp = spotipy.Spotify(auth_manager=auth_manager)\n",
    "\n",
    "scaler = StandardScaler()"
   ]
  },
  {
   "cell_type": "code",
   "execution_count": null,
   "metadata": {},
   "outputs": [],
   "source": [
    "# Toxic, Promiscuous, Sk8er Boi, Run It!, Your Love Is My Drug\n",
    "user_0 = ['6I9VzXrHxO9rA9A5euc8Ak', '2gam98EZKrF9XuOkU13ApN', '4omisSlTk6Dsq2iQD7MA07', '7xYnUQigPoIDAMPVK79NEq', '3uoQULcUWfnt6nc6J7Vgai']\n",
    "\n",
    "# This Hell\n",
    "user_1 = ['7aHmvUghK3XCEqNRbUeAn4']\n",
    "\n",
    "# Down (Jay Sean), INDUSTRY BABY\n",
    "user_2 = ['7LP4Es66zdY7CyjepqmvAg', '27NovPIUIRrOZoCHxABJwK']\n",
    "\n",
    "# Pepas, Me Porto Bonito, Tití Me Preguntó\n",
    "user_3 = ['5fwSHlTEWpluwOM0Sxnh5k', '6Sq7ltF9Qa7SNFBsV5Cogx', '1IHWl5LamUGEuP4ozKQSXZ']\n",
    "\n",
    "# All Night Longer, Mr. Brightside, No Hands, HUMBLE\n",
    "user_4 = ['1vNn7rVQT6UtEW1NGH53fT', '003vvx7Niy0yvhvHt4a68B', '03tqyYWC9Um2ZqU0ZN849H', '7KXjTSCq5nL1LoYtL7XAwS']\n",
    "\n",
    "# S&M, Get Into It (Yuh), Only Girl In The World, Gimme Gimme Gimme, Don't Start Now\n",
    "user_5 = ['7ySUcLPVX7KudhnmNcgY2D', '4V5siYO9zHpLX5qf2F0qBV', '1VDXQhu7YGdbM6UeEIfsaX', '7lkeI7MsLOZ5gyh9ejaf3W', '6WrI0LAC5M1Rw2MnX2ZvEg']\n",
    "\n",
    "# In The Party (Flo Milli), Tap In (Saweetie), Woman (Doja Cat), Only, Hot Girl (Megan Thee Stallion)\n",
    "user_6 = ['52BJrldggFQyTiW8XrILhO', '4Hpib09wXgD84w4uwTPnYD', '6Uj1ctrBOjOas8xZXGqKk4', '4MRT0dDbhqFKl67WzhUbSw', '2Xc9MR2NMc5IKPFKaEjt1k']\n",
    "\n",
    "\n",
    "user_7 = ['', '', '', '', '']\n",
    "\n",
    "\n",
    "user_8 = ['', '', '', '']\n",
    "\n",
    "\n",
    "user_9 = ['', '', '']\n",
    "\n",
    "# Limitless, Boneless, Astro Funk, Renegade, Tie Dye Sky\n",
    "user_10 = ['44ib3nlda2rBy0qmMUelnd', '5PZI5xTcMq8FsCcEroth7S', '7wRzUAw0Npu4CalkDIFHJE', '34VvEULRDeVXiaCRsUebKg', '2YZSTgWXEyDPUeKop4eiWo']"
   ]
  },
  {
   "cell_type": "code",
   "execution_count": null,
   "metadata": {},
   "outputs": [],
   "source": [
    "# Get audio features for user's chosen tracks from Spotify API\n",
    "chosen_features = sp.audio_features([sample_uri] + track_uris)"
   ]
  },
  {
   "cell_type": "code",
   "execution_count": null,
   "metadata": {},
   "outputs": [],
   "source": [
    "# Get audio features for user's recommended tracks from Spotify API\n",
    "recommendations_uris = pd.DataFrame(sp.recommendations(seed_tracks=track_uris, limit=100)['tracks'])['uri']\n",
    "recomendations_features = sp.audio_features(recommendations_uris)"
   ]
  },
  {
   "cell_type": "code",
   "execution_count": null,
   "metadata": {},
   "outputs": [],
   "source": [
    "# Create list of all features favoring chosen features\n",
    "chosen_features_weight = 100\n",
    "all_features = pd.DataFrame([chosen_features[0]] + chosen_features[1:] * chosen_features_weight + recomendations_features)\n",
    "all_features = all_features.drop(['key', 'loudness', 'mode', 'type', 'id', 'uri', 'track_href', 'analysis_url', 'duration_ms', 'time_signature'], axis=1)\n",
    "\n",
    "scaler.fit(all_features)\n",
    "all_features = pd.DataFrame(scaler.transform(all_features))\n",
    "\n",
    "usable_features = all_features.loc[1:]\n",
    "\n",
    "usable_features.plot.kde(xlim=[-1,1])"
   ]
  },
  {
   "cell_type": "code",
   "execution_count": null,
   "metadata": {},
   "outputs": [],
   "source": [
    "# run gaussian kde on 105 songs (zeroth song is the comparison song, 1-5 are user selected, 6-105 are user recommendations)\n",
    "gkde = stats.gaussian_kde(usable_features[1:].T)"
   ]
  },
  {
   "cell_type": "code",
   "execution_count": null,
   "metadata": {},
   "outputs": [],
   "source": [
    "# get sample song's normalized features\n",
    "sample = all_features.loc[0]\n",
    "print(gkde.evaluate(sample))"
   ]
  },
  {
   "cell_type": "code",
   "execution_count": null,
   "metadata": {},
   "outputs": [],
   "source": [
    "sample = all_features.loc[1]\n",
    "print(gkde.evaluate(sample))"
   ]
  },
  {
   "cell_type": "code",
   "execution_count": null,
   "metadata": {},
   "outputs": [],
   "source": [
    "# instead of including sample in standardization, just use the mean and stddev of the rest of the data to standardize the sample\n",
    "# sample - mean / stddev\n",
    "# try checking evaluation values to get intuition if it's working\n",
    "# text friends for list of 1-5 songs that they want to hear\n",
    "# simulate an example of sorting the list according to these peoples' utility with maximin principle\n",
    "## compute the utility of each song for each person\n",
    "## a utility for a list for a person is just the sum of their utilities\n",
    "## figure out how to account for energy curve - compute difference squared between two curves\n",
    "## dynamic programming maximin sort - look for algorithms so I don't have to invent something\n",
    "# get popularity? other features besides audio features?"
   ]
  },
  {
   "cell_type": "code",
   "execution_count": null,
   "metadata": {},
   "outputs": [],
   "source": []
  },
  {
   "cell_type": "code",
   "execution_count": null,
   "metadata": {},
   "outputs": [],
   "source": [
    "# chosen_features_weight = 100\n",
    "# all_features = pd.DataFrame(chosen_features * chosen_features_weight + recomendations_features)\n",
    "# usable_features = all_features.drop(['key', 'loudness', 'mode', 'type', 'id', 'uri', 'track_href', 'analysis_url', 'duration_ms', 'time_signature'], axis=1)\n",
    "\n",
    "# scaler.fit(usable_features)\n",
    "# usable_features = pd.DataFrame(scaler.transform(usable_features))\n",
    "\n",
    "# usable_features.plot.kde(xlim=[-1,1])"
   ]
  },
  {
   "cell_type": "code",
   "execution_count": null,
   "metadata": {},
   "outputs": [],
   "source": [
    "# old version without transform\n",
    "# chosen_features_weight = 100\n",
    "# all_features = pd.DataFrame(chosen_features * chosen_features_weight + recomendations_features)\n",
    "\n",
    "# usable_features = all_features.drop(['key', 'loudness', 'mode', 'type', 'id', 'uri', 'track_href', 'analysis_url', 'duration_ms', 'time_signature'], axis=1)\n",
    "# usable_features['tempo'] = (usable_features['tempo'] - 50) / 150\n",
    "\n",
    "# usable_features.plot.kde(xlim=[0,1])"
   ]
  },
  {
   "cell_type": "code",
   "execution_count": null,
   "metadata": {},
   "outputs": [],
   "source": [
    "# try running PCA on the features\n",
    "# try computing the average euclidian distance or cosine distance from a new song vectors to all previous song vectors\n",
    "# z scoring - subtract mean, divide by std dev, maps everything from -1,1\n",
    "# look at scipy.scale\n",
    "# run the scipy function on each feature individually\n",
    "# for a new song, get the probability values for each feature individually then multiply them together"
   ]
  },
  {
   "cell_type": "code",
   "execution_count": null,
   "metadata": {},
   "outputs": [],
   "source": [
    "pca = PCA(n_components=2)\n",
    "pc = pca.fit_transform(usable_features)\n",
    "\n",
    "finalDf = pd.DataFrame(data = pc, columns = ['principal component 1', 'principal component 2'])\n",
    "# finalDf = pd.concat([principalDf, usable_features[['class']]], axis = 1)\n"
   ]
  },
  {
   "cell_type": "code",
   "execution_count": null,
   "metadata": {},
   "outputs": [],
   "source": [
    "plt.figure(figsize=(7,7))\n",
    "plt.scatter(finalDf['principal component 1'],finalDf['principal component 2'],cmap='prism', s =5)\n",
    "plt.xlabel('pc1')\n",
    "plt.ylabel('pc2')"
   ]
  },
  {
   "cell_type": "code",
   "execution_count": null,
   "metadata": {},
   "outputs": [],
   "source": [
    "import scipy\n",
    "scipy.spatial.distance.cosine"
   ]
  },
  {
   "cell_type": "code",
   "execution_count": null,
   "metadata": {},
   "outputs": [],
   "source": []
  }
 ],
 "metadata": {
  "kernelspec": {
   "display_name": "Python 3.9.7",
   "language": "python",
   "name": "python3"
  },
  "language_info": {
   "codemirror_mode": {
    "name": "ipython",
    "version": 3
   },
   "file_extension": ".py",
   "mimetype": "text/x-python",
   "name": "python",
   "nbconvert_exporter": "python",
   "pygments_lexer": "ipython3",
   "version": "3.9.7"
  },
  "orig_nbformat": 4,
  "vscode": {
   "interpreter": {
    "hash": "40d3a090f54c6569ab1632332b64b2c03c39dcf918b08424e98f38b5ae0af88f"
   }
  }
 },
 "nbformat": 4,
 "nbformat_minor": 2
}
