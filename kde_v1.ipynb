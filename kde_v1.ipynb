{
 "cells": [
  {
   "cell_type": "code",
   "execution_count": 92,
   "metadata": {},
   "outputs": [
    {
     "name": "stdout",
     "output_type": "stream",
     "text": [
      "Requirement already satisfied: spotipy in /Users/adamziff/opt/anaconda3/lib/python3.8/site-packages (2.20.0)\n",
      "Requirement already satisfied: redis>=3.5.3 in /Users/adamziff/opt/anaconda3/lib/python3.8/site-packages (from spotipy) (4.3.4)\n",
      "Requirement already satisfied: urllib3>=1.26.0 in /Users/adamziff/opt/anaconda3/lib/python3.8/site-packages (from spotipy) (1.26.12)\n",
      "Requirement already satisfied: six>=1.15.0 in /Users/adamziff/opt/anaconda3/lib/python3.8/site-packages (from spotipy) (1.16.0)\n",
      "Requirement already satisfied: requests>=2.25.0 in /Users/adamziff/opt/anaconda3/lib/python3.8/site-packages (from spotipy) (2.28.1)\n",
      "Requirement already satisfied: deprecated>=1.2.3 in /Users/adamziff/opt/anaconda3/lib/python3.8/site-packages (from redis>=3.5.3->spotipy) (1.2.13)\n",
      "Requirement already satisfied: async-timeout>=4.0.2 in /Users/adamziff/opt/anaconda3/lib/python3.8/site-packages (from redis>=3.5.3->spotipy) (4.0.2)\n",
      "Requirement already satisfied: packaging>=20.4 in /Users/adamziff/opt/anaconda3/lib/python3.8/site-packages (from redis>=3.5.3->spotipy) (21.0)\n",
      "Requirement already satisfied: wrapt<2,>=1.10 in /Users/adamziff/opt/anaconda3/lib/python3.8/site-packages (from deprecated>=1.2.3->redis>=3.5.3->spotipy) (1.12.1)\n",
      "Requirement already satisfied: pyparsing>=2.0.2 in /Users/adamziff/opt/anaconda3/lib/python3.8/site-packages (from packaging>=20.4->redis>=3.5.3->spotipy) (3.0.1)\n",
      "Requirement already satisfied: charset-normalizer<3,>=2 in /Users/adamziff/opt/anaconda3/lib/python3.8/site-packages (from requests>=2.25.0->spotipy) (2.0.10)\n",
      "Requirement already satisfied: certifi>=2017.4.17 in /Users/adamziff/opt/anaconda3/lib/python3.8/site-packages (from requests>=2.25.0->spotipy) (2020.12.5)\n",
      "Requirement already satisfied: idna<4,>=2.5 in /Users/adamziff/opt/anaconda3/lib/python3.8/site-packages (from requests>=2.25.0->spotipy) (2.10)\n",
      "Note: you may need to restart the kernel to use updated packages.\n"
     ]
    }
   ],
   "source": [
    "pip install spotipy"
   ]
  },
  {
   "cell_type": "code",
   "execution_count": 93,
   "metadata": {},
   "outputs": [
    {
     "name": "stdout",
     "output_type": "stream",
     "text": [
      "Requirement already satisfied: pandas in /Users/adamziff/opt/anaconda3/lib/python3.8/site-packages (1.2.4)\n",
      "Requirement already satisfied: python-dateutil>=2.7.3 in /Users/adamziff/opt/anaconda3/lib/python3.8/site-packages (from pandas) (2.8.1)\n",
      "Requirement already satisfied: pytz>=2017.3 in /Users/adamziff/opt/anaconda3/lib/python3.8/site-packages (from pandas) (2021.1)\n",
      "Requirement already satisfied: numpy>=1.16.5 in /Users/adamziff/opt/anaconda3/lib/python3.8/site-packages (from pandas) (1.20.1)\n",
      "Requirement already satisfied: six>=1.5 in /Users/adamziff/opt/anaconda3/lib/python3.8/site-packages (from python-dateutil>=2.7.3->pandas) (1.16.0)\n",
      "Note: you may need to restart the kernel to use updated packages.\n"
     ]
    }
   ],
   "source": [
    "pip install pandas"
   ]
  },
  {
   "cell_type": "code",
   "execution_count": 94,
   "metadata": {},
   "outputs": [
    {
     "name": "stdout",
     "output_type": "stream",
     "text": [
      "Requirement already satisfied: urllib3 in /Users/adamziff/opt/anaconda3/lib/python3.8/site-packages (1.26.12)\n",
      "Note: you may need to restart the kernel to use updated packages.\n",
      "Requirement already satisfied: requests in /Users/adamziff/opt/anaconda3/lib/python3.8/site-packages (2.28.1)\n",
      "Requirement already satisfied: urllib3<1.27,>=1.21.1 in /Users/adamziff/opt/anaconda3/lib/python3.8/site-packages (from requests) (1.26.12)\n",
      "Requirement already satisfied: certifi>=2017.4.17 in /Users/adamziff/opt/anaconda3/lib/python3.8/site-packages (from requests) (2020.12.5)\n",
      "Requirement already satisfied: charset-normalizer<3,>=2 in /Users/adamziff/opt/anaconda3/lib/python3.8/site-packages (from requests) (2.0.10)\n",
      "Requirement already satisfied: idna<4,>=2.5 in /Users/adamziff/opt/anaconda3/lib/python3.8/site-packages (from requests) (2.10)\n",
      "Note: you may need to restart the kernel to use updated packages.\n",
      "Requirement already satisfied: spotipy in /Users/adamziff/opt/anaconda3/lib/python3.8/site-packages (2.20.0)\n",
      "Requirement already satisfied: requests>=2.25.0 in /Users/adamziff/opt/anaconda3/lib/python3.8/site-packages (from spotipy) (2.28.1)\n",
      "Requirement already satisfied: urllib3>=1.26.0 in /Users/adamziff/opt/anaconda3/lib/python3.8/site-packages (from spotipy) (1.26.12)\n",
      "Requirement already satisfied: redis>=3.5.3 in /Users/adamziff/opt/anaconda3/lib/python3.8/site-packages (from spotipy) (4.3.4)\n",
      "Requirement already satisfied: six>=1.15.0 in /Users/adamziff/opt/anaconda3/lib/python3.8/site-packages (from spotipy) (1.16.0)\n",
      "Requirement already satisfied: async-timeout>=4.0.2 in /Users/adamziff/opt/anaconda3/lib/python3.8/site-packages (from redis>=3.5.3->spotipy) (4.0.2)\n",
      "Requirement already satisfied: packaging>=20.4 in /Users/adamziff/opt/anaconda3/lib/python3.8/site-packages (from redis>=3.5.3->spotipy) (21.0)\n",
      "Requirement already satisfied: deprecated>=1.2.3 in /Users/adamziff/opt/anaconda3/lib/python3.8/site-packages (from redis>=3.5.3->spotipy) (1.2.13)\n",
      "Requirement already satisfied: wrapt<2,>=1.10 in /Users/adamziff/opt/anaconda3/lib/python3.8/site-packages (from deprecated>=1.2.3->redis>=3.5.3->spotipy) (1.12.1)\n",
      "Requirement already satisfied: pyparsing>=2.0.2 in /Users/adamziff/opt/anaconda3/lib/python3.8/site-packages (from packaging>=20.4->redis>=3.5.3->spotipy) (3.0.1)\n",
      "Requirement already satisfied: idna<4,>=2.5 in /Users/adamziff/opt/anaconda3/lib/python3.8/site-packages (from requests>=2.25.0->spotipy) (2.10)\n",
      "Requirement already satisfied: certifi>=2017.4.17 in /Users/adamziff/opt/anaconda3/lib/python3.8/site-packages (from requests>=2.25.0->spotipy) (2020.12.5)\n",
      "Requirement already satisfied: charset-normalizer<3,>=2 in /Users/adamziff/opt/anaconda3/lib/python3.8/site-packages (from requests>=2.25.0->spotipy) (2.0.10)\n",
      "Note: you may need to restart the kernel to use updated packages.\n"
     ]
    }
   ],
   "source": [
    "%pip install urllib3 --upgrade \n",
    "%pip install requests --upgrade \n",
    "%pip install spotipy --upgrade"
   ]
  },
  {
   "cell_type": "code",
   "execution_count": 95,
   "metadata": {},
   "outputs": [],
   "source": [
    "# setup\n",
    "import spotipy\n",
    "from spotipy.oauth2 import SpotifyClientCredentials\n",
    "import os\n",
    "import numpy as np\n",
    "import timeit\n",
    "import pandas as pd\n",
    "from operator import itemgetter\n",
    "import time\n",
    "import datetime as dt\n",
    "import scipy.stats as stats\n",
    "import matplotlib.pyplot as plt\n",
    "from sklearn.preprocessing import StandardScaler\n",
    "from sklearn.decomposition import PCA\n",
    "\n",
    "os.environ['SPOTIPY_CLIENT_ID'] = '3191e7e8b04e46c1af64f49bcdd020be'\n",
    "os.environ['SPOTIPY_CLIENT_SECRET'] = '88dc925eff0d4006bb6d0b9b2401ac59'\n",
    "\n",
    "auth_manager = SpotifyClientCredentials()\n",
    "sp = spotipy.Spotify(auth_manager=auth_manager)\n",
    "\n",
    "scaler = StandardScaler()"
   ]
  },
  {
   "cell_type": "code",
   "execution_count": 56,
   "metadata": {},
   "outputs": [],
   "source": [
    "# User's 5 chosen tracks:\n",
    "# Toxic, Promiscuous, Sk8er Boi, Run It!, Your Love Is My Drug\n",
    "track_uris = [\"spotify:track:6I9VzXrHxO9rA9A5euc8Ak\", \"spotify:track:2gam98EZKrF9XuOkU13ApN\", \"spotify:track:4omisSlTk6Dsq2iQD7MA07\", \"spotify:track:7xYnUQigPoIDAMPVK79NEq\", \"spotify:track:3uoQULcUWfnt6nc6J7Vgai\"]\n",
    "# Limitless, Boneless, Astro Funk, Renegade, Tie Dye Sky\n",
    "# track_uris = ['spotify:track:44ib3nlda2rBy0qmMUelnd', 'spotify:track:5PZI5xTcMq8FsCcEroth7S', 'spotify:track:7wRzUAw0Npu4CalkDIFHJE', 'spotify:track:34VvEULRDeVXiaCRsUebKg', 'spotify:track:2YZSTgWXEyDPUeKop4eiWo']\n",
    "# This Hell\n",
    "sample_uri = '7aHmvUghK3XCEqNRbUeAn4'"
   ]
  },
  {
   "cell_type": "code",
   "execution_count": 57,
   "metadata": {},
   "outputs": [],
   "source": [
    "# Get audio features for user's chosen tracks from Spotify API\n",
    "chosen_features = sp.audio_features([sample_uri] + track_uris)"
   ]
  },
  {
   "cell_type": "code",
   "execution_count": 60,
   "metadata": {},
   "outputs": [],
   "source": [
    "# Get audio features for user's recommended tracks from Spotify API\n",
    "recommendations_uris = pd.DataFrame(sp.recommendations(seed_tracks=track_uris, limit=100)['tracks'])['uri']\n",
    "recomendations_features = sp.audio_features(recommendations_uris)"
   ]
  },
  {
   "cell_type": "code",
   "execution_count": 75,
   "metadata": {},
   "outputs": [
    {
     "data": {
      "text/plain": [
       "<AxesSubplot:ylabel='Density'>"
      ]
     },
     "execution_count": 75,
     "metadata": {},
     "output_type": "execute_result"
    },
    {
     "data": {
      "image/png": "[encoded data removed]",
      "text/plain": [
       "<Figure size 432x288 with 1 Axes>"
      ]
     },
     "metadata": {
      "needs_background": "light"
     },
     "output_type": "display_data"
    }
   ],
   "source": [
    "# Create list of all features favoring chosen features\n",
    "chosen_features_weight = 100\n",
    "all_features = pd.DataFrame([chosen_features[0]] + chosen_features[1:] * chosen_features_weight + recomendations_features)\n",
    "all_features = all_features.drop(['key', 'loudness', 'mode', 'type', 'id', 'uri', 'track_href', 'analysis_url', 'duration_ms', 'time_signature'], axis=1)\n",
    "\n",
    "scaler.fit(all_features)\n",
    "all_features = pd.DataFrame(scaler.transform(all_features))\n",
    "\n",
    "usable_features = all_features.loc[1:]\n",
    "\n",
    "usable_features.plot.kde(xlim=[-1,1])"
   ]
  },
  {
   "cell_type": "code",
   "execution_count": 76,
   "metadata": {},
   "outputs": [],
   "source": [
    "# run gaussian kde on 105 songs (zeroth song is the comparison song, 1-5 are user selected, 6-105 are user recommendations)\n",
    "gkde = stats.gaussian_kde(usable_features[1:].T)"
   ]
  },
  {
   "cell_type": "code",
   "execution_count": 77,
   "metadata": {},
   "outputs": [
    {
     "name": "stdout",
     "output_type": "stream",
     "text": [
      "[0.00025491]\n"
     ]
    }
   ],
   "source": [
    "# get sample song's normalized features\n",
    "sample = all_features.loc[0]\n",
    "print(gkde.evaluate(sample))"
   ]
  },
  {
   "cell_type": "code",
   "execution_count": 91,
   "metadata": {},
   "outputs": [
    {
     "name": "stdout",
     "output_type": "stream",
     "text": [
      "[0.04123487]\n"
     ]
    }
   ],
   "source": [
    "sample = all_features.loc[1]\n",
    "print(gkde.evaluate(sample))"
   ]
  },
  {
   "cell_type": "code",
   "execution_count": null,
   "metadata": {},
   "outputs": [],
   "source": [
    "# instead of including sample in standardization, just use the mean and stddev of the rest of the data to standardize the sample\n",
    "# sample - mean / stddev\n",
    "# try checking evaluation values to get intuition if it's working\n",
    "# text friends for list of 1-5 songs that they want to hear\n",
    "# simulate an example of sorting the list according to these peoples' utility with maximin principle\n",
    "## compute the utility of each song for each person\n",
    "## a utility for a list for a person is just the sum of their utilities\n",
    "## figure out how to account for energy curve - compute difference squared between two curves\n",
    "## dynamic programming maximin sort - look for algorithms so I don't have to invent something\n",
    "# get popularity? other features besides audio features?"
   ]
  },
  {
   "cell_type": "code",
   "execution_count": null,
   "metadata": {},
   "outputs": [],
   "source": []
  },
  {
   "cell_type": "code",
   "execution_count": 64,
   "metadata": {},
   "outputs": [],
   "source": [
    "# chosen_features_weight = 100\n",
    "# all_features = pd.DataFrame(chosen_features * chosen_features_weight + recomendations_features)\n",
    "# usable_features = all_features.drop(['key', 'loudness', 'mode', 'type', 'id', 'uri', 'track_href', 'analysis_url', 'duration_ms', 'time_signature'], axis=1)\n",
    "\n",
    "# scaler.fit(usable_features)\n",
    "# usable_features = pd.DataFrame(scaler.transform(usable_features))\n",
    "\n",
    "# usable_features.plot.kde(xlim=[-1,1])"
   ]
  },
  {
   "cell_type": "code",
   "execution_count": 65,
   "metadata": {},
   "outputs": [],
   "source": [
    "# old version without transform\n",
    "# chosen_features_weight = 100\n",
    "# all_features = pd.DataFrame(chosen_features * chosen_features_weight + recomendations_features)\n",
    "\n",
    "# usable_features = all_features.drop(['key', 'loudness', 'mode', 'type', 'id', 'uri', 'track_href', 'analysis_url', 'duration_ms', 'time_signature'], axis=1)\n",
    "# usable_features['tempo'] = (usable_features['tempo'] - 50) / 150\n",
    "\n",
    "# usable_features.plot.kde(xlim=[0,1])"
   ]
  },
  {
   "cell_type": "code",
   "execution_count": 66,
   "metadata": {},
   "outputs": [],
   "source": [
    "# try running PCA on the features\n",
    "# try computing the average euclidian distance or cosine distance from a new song vectors to all previous song vectors\n",
    "# z scoring - subtract mean, divide by std dev, maps everything from -1,1\n",
    "# look at scipy.scale\n",
    "# run the scipy function on each feature individually\n",
    "# for a new song, get the probability values for each feature individually then multiply them together"
   ]
  },
  {
   "cell_type": "code",
   "execution_count": 67,
   "metadata": {},
   "outputs": [],
   "source": [
    "pca = PCA(n_components=2)\n",
    "pc = pca.fit_transform(usable_features)\n",
    "\n",
    "finalDf = pd.DataFrame(data = pc, columns = ['principal component 1', 'principal component 2'])\n",
    "# finalDf = pd.concat([principalDf, usable_features[['class']]], axis = 1)\n"
   ]
  },
  {
   "cell_type": "code",
   "execution_count": 68,
   "metadata": {},
   "outputs": [
    {
     "data": {
      "text/plain": [
       "Text(0, 0.5, 'pc2')"
      ]
     },
     "execution_count": 68,
     "metadata": {},
     "output_type": "execute_result"
    },
    {
     "data": {
      "image/png": "[encoded data removed]",
      "text/plain": [
       "<Figure size 504x504 with 1 Axes>"
      ]
     },
     "metadata": {
      "needs_background": "light"
     },
     "output_type": "display_data"
    }
   ],
   "source": [
    "plt.figure(figsize=(7,7))\n",
    "plt.scatter(finalDf['principal component 1'],finalDf['principal component 2'],cmap='prism', s =5)\n",
    "plt.xlabel('pc1')\n",
    "plt.ylabel('pc2')"
   ]
  },
  {
   "cell_type": "code",
   "execution_count": null,
   "metadata": {},
   "outputs": [],
   "source": [
    "import scipy\n",
    "scipy.spatial.distance.cosine"
   ]
  },
  {
   "cell_type": "code",
   "execution_count": null,
   "metadata": {},
   "outputs": [],
   "source": []
  }
 ],
 "metadata": {
  "kernelspec": {
   "display_name": "Python 3.8.8",
   "language": "python",
   "name": "python3"
  },
  "language_info": {
   "codemirror_mode": {
    "name": "ipython",
    "version": 3
   },
   "file_extension": ".py",
   "mimetype": "text/x-python",
   "name": "python",
   "nbconvert_exporter": "python",
   "pygments_lexer": "ipython3",
   "version": "3.8.8"
  },
  "orig_nbformat": 4,
  "vscode": {
   "interpreter": {
    "hash": "1a2c081ab79233eef81851a0f915c54ec256343befc026786e3e18bde51bf24c"
   }
  }
 },
 "nbformat": 4,
 "nbformat_minor": 2
}
