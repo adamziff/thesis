{
 "cells": [
  {
   "cell_type": "code",
   "execution_count": 14,
   "metadata": {},
   "outputs": [
    {
     "name": "stdout",
     "output_type": "stream",
     "text": [
      "Requirement already satisfied: spotipy in /Users/adamziff/opt/anaconda3/lib/python3.8/site-packages (2.20.0)\n",
      "Requirement already satisfied: redis>=3.5.3 in /Users/adamziff/opt/anaconda3/lib/python3.8/site-packages (from spotipy) (4.3.4)\n",
      "Requirement already satisfied: six>=1.15.0 in /Users/adamziff/opt/anaconda3/lib/python3.8/site-packages (from spotipy) (1.16.0)\n",
      "Requirement already satisfied: urllib3>=1.26.0 in /Users/adamziff/opt/anaconda3/lib/python3.8/site-packages (from spotipy) (1.26.12)\n",
      "Requirement already satisfied: requests>=2.25.0 in /Users/adamziff/opt/anaconda3/lib/python3.8/site-packages (from spotipy) (2.28.1)\n",
      "Requirement already satisfied: async-timeout>=4.0.2 in /Users/adamziff/opt/anaconda3/lib/python3.8/site-packages (from redis>=3.5.3->spotipy) (4.0.2)\n",
      "Requirement already satisfied: packaging>=20.4 in /Users/adamziff/opt/anaconda3/lib/python3.8/site-packages (from redis>=3.5.3->spotipy) (21.0)\n",
      "Requirement already satisfied: deprecated>=1.2.3 in /Users/adamziff/opt/anaconda3/lib/python3.8/site-packages (from redis>=3.5.3->spotipy) (1.2.13)\n",
      "Requirement already satisfied: wrapt<2,>=1.10 in /Users/adamziff/opt/anaconda3/lib/python3.8/site-packages (from deprecated>=1.2.3->redis>=3.5.3->spotipy) (1.12.1)\n",
      "Requirement already satisfied: pyparsing>=2.0.2 in /Users/adamziff/opt/anaconda3/lib/python3.8/site-packages (from packaging>=20.4->redis>=3.5.3->spotipy) (3.0.1)\n",
      "Requirement already satisfied: certifi>=2017.4.17 in /Users/adamziff/opt/anaconda3/lib/python3.8/site-packages (from requests>=2.25.0->spotipy) (2020.12.5)\n",
      "Requirement already satisfied: charset-normalizer<3,>=2 in /Users/adamziff/opt/anaconda3/lib/python3.8/site-packages (from requests>=2.25.0->spotipy) (2.0.10)\n",
      "Requirement already satisfied: idna<4,>=2.5 in /Users/adamziff/opt/anaconda3/lib/python3.8/site-packages (from requests>=2.25.0->spotipy) (2.10)\n",
      "Note: you may need to restart the kernel to use updated packages.\n"
     ]
    }
   ],
   "source": [
    "pip install spotipy"
   ]
  },
  {
   "cell_type": "code",
   "execution_count": 15,
   "metadata": {},
   "outputs": [
    {
     "name": "stdout",
     "output_type": "stream",
     "text": [
      "Requirement already satisfied: pandas in /Users/adamziff/opt/anaconda3/lib/python3.8/site-packages (1.2.4)\n",
      "Requirement already satisfied: python-dateutil>=2.7.3 in /Users/adamziff/opt/anaconda3/lib/python3.8/site-packages (from pandas) (2.8.1)\n",
      "Requirement already satisfied: pytz>=2017.3 in /Users/adamziff/opt/anaconda3/lib/python3.8/site-packages (from pandas) (2021.1)\n",
      "Requirement already satisfied: numpy>=1.16.5 in /Users/adamziff/opt/anaconda3/lib/python3.8/site-packages (from pandas) (1.20.1)\n",
      "Requirement already satisfied: six>=1.5 in /Users/adamziff/opt/anaconda3/lib/python3.8/site-packages (from python-dateutil>=2.7.3->pandas) (1.16.0)\n",
      "Note: you may need to restart the kernel to use updated packages.\n"
     ]
    }
   ],
   "source": [
    "pip install pandas"
   ]
  },
  {
   "cell_type": "code",
   "execution_count": 16,
   "metadata": {},
   "outputs": [
    {
     "name": "stdout",
     "output_type": "stream",
     "text": [
      "Requirement already satisfied: urllib3 in /Users/adamziff/opt/anaconda3/lib/python3.8/site-packages (1.26.12)\n",
      "Note: you may need to restart the kernel to use updated packages.\n",
      "Requirement already satisfied: requests in /Users/adamziff/opt/anaconda3/lib/python3.8/site-packages (2.28.1)\n",
      "Requirement already satisfied: urllib3<1.27,>=1.21.1 in /Users/adamziff/opt/anaconda3/lib/python3.8/site-packages (from requests) (1.26.12)\n",
      "Requirement already satisfied: certifi>=2017.4.17 in /Users/adamziff/opt/anaconda3/lib/python3.8/site-packages (from requests) (2020.12.5)\n",
      "Requirement already satisfied: idna<4,>=2.5 in /Users/adamziff/opt/anaconda3/lib/python3.8/site-packages (from requests) (2.10)\n",
      "Requirement already satisfied: charset-normalizer<3,>=2 in /Users/adamziff/opt/anaconda3/lib/python3.8/site-packages (from requests) (2.0.10)\n",
      "Note: you may need to restart the kernel to use updated packages.\n",
      "Requirement already satisfied: spotipy in /Users/adamziff/opt/anaconda3/lib/python3.8/site-packages (2.20.0)\n",
      "Requirement already satisfied: redis>=3.5.3 in /Users/adamziff/opt/anaconda3/lib/python3.8/site-packages (from spotipy) (4.3.4)\n",
      "Requirement already satisfied: urllib3>=1.26.0 in /Users/adamziff/opt/anaconda3/lib/python3.8/site-packages (from spotipy) (1.26.12)\n",
      "Requirement already satisfied: requests>=2.25.0 in /Users/adamziff/opt/anaconda3/lib/python3.8/site-packages (from spotipy) (2.28.1)\n",
      "Requirement already satisfied: six>=1.15.0 in /Users/adamziff/opt/anaconda3/lib/python3.8/site-packages (from spotipy) (1.16.0)\n",
      "Requirement already satisfied: packaging>=20.4 in /Users/adamziff/opt/anaconda3/lib/python3.8/site-packages (from redis>=3.5.3->spotipy) (21.0)\n",
      "Requirement already satisfied: deprecated>=1.2.3 in /Users/adamziff/opt/anaconda3/lib/python3.8/site-packages (from redis>=3.5.3->spotipy) (1.2.13)\n",
      "Requirement already satisfied: async-timeout>=4.0.2 in /Users/adamziff/opt/anaconda3/lib/python3.8/site-packages (from redis>=3.5.3->spotipy) (4.0.2)\n",
      "Requirement already satisfied: wrapt<2,>=1.10 in /Users/adamziff/opt/anaconda3/lib/python3.8/site-packages (from deprecated>=1.2.3->redis>=3.5.3->spotipy) (1.12.1)\n",
      "Requirement already satisfied: pyparsing>=2.0.2 in /Users/adamziff/opt/anaconda3/lib/python3.8/site-packages (from packaging>=20.4->redis>=3.5.3->spotipy) (3.0.1)\n",
      "Requirement already satisfied: certifi>=2017.4.17 in /Users/adamziff/opt/anaconda3/lib/python3.8/site-packages (from requests>=2.25.0->spotipy) (2020.12.5)\n",
      "Requirement already satisfied: charset-normalizer<3,>=2 in /Users/adamziff/opt/anaconda3/lib/python3.8/site-packages (from requests>=2.25.0->spotipy) (2.0.10)\n",
      "Requirement already satisfied: idna<4,>=2.5 in /Users/adamziff/opt/anaconda3/lib/python3.8/site-packages (from requests>=2.25.0->spotipy) (2.10)\n",
      "Note: you may need to restart the kernel to use updated packages.\n"
     ]
    }
   ],
   "source": [
    "%pip install urllib3 --upgrade \n",
    "%pip install requests --upgrade \n",
    "%pip install spotipy --upgrade"
   ]
  },
  {
   "cell_type": "code",
   "execution_count": 17,
   "metadata": {},
   "outputs": [],
   "source": [
    "import spotipy\n",
    "from spotipy.oauth2 import SpotifyClientCredentials\n",
    "import os\n",
    "import numpy as np\n",
    "import timeit\n",
    "import pandas as pd\n",
    "from operator import itemgetter\n",
    "import time\n",
    "import datetime as dt\n",
    "\n",
    "os.environ['SPOTIPY_CLIENT_ID'] = '3191e7e8b04e46c1af64f49bcdd020be'\n",
    "os.environ['SPOTIPY_CLIENT_SECRET'] = '88dc925eff0d4006bb6d0b9b2401ac59'\n",
    "\n",
    "auth_manager = SpotifyClientCredentials()\n",
    "sp = spotipy.Spotify(auth_manager=auth_manager)"
   ]
  },
  {
   "cell_type": "code",
   "execution_count": 18,
   "metadata": {},
   "outputs": [],
   "source": [
    "# Toxic, Promiscuous, Sk8er Boi, Run It!, Your Love Is My Drug\n",
    "track_uris = [\"spotify:track:6I9VzXrHxO9rA9A5euc8Ak\", \"spotify:track:2gam98EZKrF9XuOkU13ApN\", \"spotify:track:4omisSlTk6Dsq2iQD7MA07\", \"spotify:track:7xYnUQigPoIDAMPVK79NEq\", \"spotify:track:3uoQULcUWfnt6nc6J7Vgai\"]"
   ]
  },
  {
   "cell_type": "code",
   "execution_count": 52,
   "metadata": {},
   "outputs": [],
   "source": [
    "# all_features = pd.DataFrame(sp.audio_features(track_uris))\n",
    "chosen_features = sp.audio_features(track_uris)\n",
    "# print(all_features)"
   ]
  },
  {
   "cell_type": "code",
   "execution_count": 53,
   "metadata": {},
   "outputs": [],
   "source": [
    "recommendations_uris = pd.DataFrame(sp.recommendations(seed_tracks=track_uris, limit=100)['tracks'])['uri']\n",
    "# recomendations_features = pd.DataFrame(sp.audio_features(recommendations_uris))\n",
    "recomendations_features = sp.audio_features(recommendations_uris)\n",
    "# print(recomendations_features)"
   ]
  },
  {
   "cell_type": "code",
   "execution_count": 56,
   "metadata": {},
   "outputs": [],
   "source": [
    "all_features = pd.DataFrame(chosen_features + recomendations_features)\n",
    "# print(all_features)"
   ]
  },
  {
   "cell_type": "code",
   "execution_count": 57,
   "metadata": {},
   "outputs": [
    {
     "name": "stdout",
     "output_type": "stream",
     "text": [
      "     danceability  energy  speechiness  acousticness  instrumentalness  \\\n",
      "0           0.774   0.838       0.1140      0.024900          0.025000   \n",
      "1           0.808   0.970       0.0506      0.056900          0.000061   \n",
      "2           0.487   0.900       0.0482      0.000068          0.000000   \n",
      "3           0.846   0.482       0.1290      0.024600          0.000000   \n",
      "4           0.829   0.627       0.0759      0.006630          0.000000   \n",
      "..            ...     ...          ...           ...               ...   \n",
      "100         0.709   0.745       0.0738      0.022500          0.000052   \n",
      "101         0.465   0.956       0.1280      0.009630          0.000101   \n",
      "102         0.731   0.807       0.1000      0.181000          0.751000   \n",
      "103         0.541   0.953       0.1070      0.048000          0.000000   \n",
      "104         0.832   0.391       0.0628      0.056400          0.000000   \n",
      "\n",
      "     liveness  valence     tempo  \n",
      "0      0.2420    0.924  0.715200  \n",
      "1      0.1540    0.868  0.571640  \n",
      "2      0.3580    0.484  0.749685  \n",
      "3      0.3930    0.212  0.504845  \n",
      "4      0.0939    0.720  0.600240  \n",
      "..        ...      ...       ...  \n",
      "100    0.1540    0.576  0.630135  \n",
      "101    0.3350    0.665  0.920630  \n",
      "102    0.3190    0.765  0.573795  \n",
      "103    0.1920    0.856  0.556890  \n",
      "104    0.2240    0.436  0.524805  \n",
      "\n",
      "[105 rows x 8 columns]\n"
     ]
    }
   ],
   "source": [
    "usable_features = all_features.drop(['key', 'loudness', 'mode', 'type', 'id', 'uri', 'track_href', 'analysis_url', 'duration_ms', 'time_signature'], axis=1)\n",
    "usable_features['tempo'] = usable_features['tempo'] / 200\n",
    "print(usable_features)"
   ]
  },
  {
   "cell_type": "code",
   "execution_count": 58,
   "metadata": {},
   "outputs": [],
   "source": [
    "import scipy.stats as stats"
   ]
  },
  {
   "cell_type": "code",
   "execution_count": 59,
   "metadata": {},
   "outputs": [
    {
     "ename": "TypeError",
     "evalue": "No loop matching the specified signature and casting was found for ufunc add",
     "output_type": "error",
     "traceback": [
      "\u001b[0;31m---------------------------------------------------------------------------\u001b[0m",
      "\u001b[0;31mTypeError\u001b[0m                                 Traceback (most recent call last)",
      "\u001b[0;32m<ipython-input-59-23378bce4a00>\u001b[0m in \u001b[0;36m<module>\u001b[0;34m\u001b[0m\n\u001b[0;32m----> 1\u001b[0;31m \u001b[0mstats\u001b[0m\u001b[0;34m.\u001b[0m\u001b[0mgaussian_kde\u001b[0m\u001b[0;34m(\u001b[0m\u001b[0mall_features\u001b[0m\u001b[0;34m)\u001b[0m\u001b[0;34m\u001b[0m\u001b[0;34m\u001b[0m\u001b[0m\n\u001b[0m",
      "\u001b[0;32m~/opt/anaconda3/lib/python3.8/site-packages/scipy/stats/kde.py\u001b[0m in \u001b[0;36m__init__\u001b[0;34m(self, dataset, bw_method, weights)\u001b[0m\n\u001b[1;32m    204\u001b[0m             \u001b[0mself\u001b[0m\u001b[0;34m.\u001b[0m\u001b[0m_neff\u001b[0m \u001b[0;34m=\u001b[0m \u001b[0;36m1\u001b[0m\u001b[0;34m/\u001b[0m\u001b[0msum\u001b[0m\u001b[0;34m(\u001b[0m\u001b[0mself\u001b[0m\u001b[0;34m.\u001b[0m\u001b[0m_weights\u001b[0m\u001b[0;34m**\u001b[0m\u001b[0;36m2\u001b[0m\u001b[0;34m)\u001b[0m\u001b[0;34m\u001b[0m\u001b[0;34m\u001b[0m\u001b[0m\n\u001b[1;32m    205\u001b[0m \u001b[0;34m\u001b[0m\u001b[0m\n\u001b[0;32m--> 206\u001b[0;31m         \u001b[0mself\u001b[0m\u001b[0;34m.\u001b[0m\u001b[0mset_bandwidth\u001b[0m\u001b[0;34m(\u001b[0m\u001b[0mbw_method\u001b[0m\u001b[0;34m=\u001b[0m\u001b[0mbw_method\u001b[0m\u001b[0;34m)\u001b[0m\u001b[0;34m\u001b[0m\u001b[0;34m\u001b[0m\u001b[0m\n\u001b[0m\u001b[1;32m    207\u001b[0m \u001b[0;34m\u001b[0m\u001b[0m\n\u001b[1;32m    208\u001b[0m     \u001b[0;32mdef\u001b[0m \u001b[0mevaluate\u001b[0m\u001b[0;34m(\u001b[0m\u001b[0mself\u001b[0m\u001b[0;34m,\u001b[0m \u001b[0mpoints\u001b[0m\u001b[0;34m)\u001b[0m\u001b[0;34m:\u001b[0m\u001b[0;34m\u001b[0m\u001b[0;34m\u001b[0m\u001b[0m\n",
      "\u001b[0;32m~/opt/anaconda3/lib/python3.8/site-packages/scipy/stats/kde.py\u001b[0m in \u001b[0;36mset_bandwidth\u001b[0;34m(self, bw_method)\u001b[0m\n\u001b[1;32m    554\u001b[0m             \u001b[0;32mraise\u001b[0m \u001b[0mValueError\u001b[0m\u001b[0;34m(\u001b[0m\u001b[0mmsg\u001b[0m\u001b[0;34m)\u001b[0m\u001b[0;34m\u001b[0m\u001b[0;34m\u001b[0m\u001b[0m\n\u001b[1;32m    555\u001b[0m \u001b[0;34m\u001b[0m\u001b[0m\n\u001b[0;32m--> 556\u001b[0;31m         \u001b[0mself\u001b[0m\u001b[0;34m.\u001b[0m\u001b[0m_compute_covariance\u001b[0m\u001b[0;34m(\u001b[0m\u001b[0;34m)\u001b[0m\u001b[0;34m\u001b[0m\u001b[0;34m\u001b[0m\u001b[0m\n\u001b[0m\u001b[1;32m    557\u001b[0m \u001b[0;34m\u001b[0m\u001b[0m\n\u001b[1;32m    558\u001b[0m     \u001b[0;32mdef\u001b[0m \u001b[0m_compute_covariance\u001b[0m\u001b[0;34m(\u001b[0m\u001b[0mself\u001b[0m\u001b[0;34m)\u001b[0m\u001b[0;34m:\u001b[0m\u001b[0;34m\u001b[0m\u001b[0;34m\u001b[0m\u001b[0m\n",
      "\u001b[0;32m~/opt/anaconda3/lib/python3.8/site-packages/scipy/stats/kde.py\u001b[0m in \u001b[0;36m_compute_covariance\u001b[0;34m(self)\u001b[0m\n\u001b[1;32m    563\u001b[0m         \u001b[0;31m# Cache covariance and inverse covariance of the data\u001b[0m\u001b[0;34m\u001b[0m\u001b[0;34m\u001b[0m\u001b[0;34m\u001b[0m\u001b[0m\n\u001b[1;32m    564\u001b[0m         \u001b[0;32mif\u001b[0m \u001b[0;32mnot\u001b[0m \u001b[0mhasattr\u001b[0m\u001b[0;34m(\u001b[0m\u001b[0mself\u001b[0m\u001b[0;34m,\u001b[0m \u001b[0;34m'_data_inv_cov'\u001b[0m\u001b[0;34m)\u001b[0m\u001b[0;34m:\u001b[0m\u001b[0;34m\u001b[0m\u001b[0;34m\u001b[0m\u001b[0m\n\u001b[0;32m--> 565\u001b[0;31m             self._data_covariance = atleast_2d(cov(self.dataset, rowvar=1,\n\u001b[0m\u001b[1;32m    566\u001b[0m                                                \u001b[0mbias\u001b[0m\u001b[0;34m=\u001b[0m\u001b[0;32mFalse\u001b[0m\u001b[0;34m,\u001b[0m\u001b[0;34m\u001b[0m\u001b[0;34m\u001b[0m\u001b[0m\n\u001b[1;32m    567\u001b[0m                                                aweights=self.weights))\n",
      "\u001b[0;32m<__array_function__ internals>\u001b[0m in \u001b[0;36mcov\u001b[0;34m(*args, **kwargs)\u001b[0m\n",
      "\u001b[0;32m~/opt/anaconda3/lib/python3.8/site-packages/numpy/lib/function_base.py\u001b[0m in \u001b[0;36mcov\u001b[0;34m(m, y, rowvar, bias, ddof, fweights, aweights, dtype)\u001b[0m\n\u001b[1;32m   2467\u001b[0m             \u001b[0mw\u001b[0m \u001b[0;34m*=\u001b[0m \u001b[0maweights\u001b[0m\u001b[0;34m\u001b[0m\u001b[0;34m\u001b[0m\u001b[0m\n\u001b[1;32m   2468\u001b[0m \u001b[0;34m\u001b[0m\u001b[0m\n\u001b[0;32m-> 2469\u001b[0;31m     \u001b[0mavg\u001b[0m\u001b[0;34m,\u001b[0m \u001b[0mw_sum\u001b[0m \u001b[0;34m=\u001b[0m \u001b[0maverage\u001b[0m\u001b[0;34m(\u001b[0m\u001b[0mX\u001b[0m\u001b[0;34m,\u001b[0m \u001b[0maxis\u001b[0m\u001b[0;34m=\u001b[0m\u001b[0;36m1\u001b[0m\u001b[0;34m,\u001b[0m \u001b[0mweights\u001b[0m\u001b[0;34m=\u001b[0m\u001b[0mw\u001b[0m\u001b[0;34m,\u001b[0m \u001b[0mreturned\u001b[0m\u001b[0;34m=\u001b[0m\u001b[0;32mTrue\u001b[0m\u001b[0;34m)\u001b[0m\u001b[0;34m\u001b[0m\u001b[0;34m\u001b[0m\u001b[0m\n\u001b[0m\u001b[1;32m   2470\u001b[0m     \u001b[0mw_sum\u001b[0m \u001b[0;34m=\u001b[0m \u001b[0mw_sum\u001b[0m\u001b[0;34m[\u001b[0m\u001b[0;36m0\u001b[0m\u001b[0;34m]\u001b[0m\u001b[0;34m\u001b[0m\u001b[0;34m\u001b[0m\u001b[0m\n\u001b[1;32m   2471\u001b[0m \u001b[0;34m\u001b[0m\u001b[0m\n",
      "\u001b[0;32m<__array_function__ internals>\u001b[0m in \u001b[0;36maverage\u001b[0;34m(*args, **kwargs)\u001b[0m\n",
      "\u001b[0;32m~/opt/anaconda3/lib/python3.8/site-packages/numpy/lib/function_base.py\u001b[0m in \u001b[0;36maverage\u001b[0;34m(a, axis, weights, returned)\u001b[0m\n\u001b[1;32m    405\u001b[0m             \u001b[0mwgt\u001b[0m \u001b[0;34m=\u001b[0m \u001b[0mwgt\u001b[0m\u001b[0;34m.\u001b[0m\u001b[0mswapaxes\u001b[0m\u001b[0;34m(\u001b[0m\u001b[0;34m-\u001b[0m\u001b[0;36m1\u001b[0m\u001b[0;34m,\u001b[0m \u001b[0maxis\u001b[0m\u001b[0;34m)\u001b[0m\u001b[0;34m\u001b[0m\u001b[0;34m\u001b[0m\u001b[0m\n\u001b[1;32m    406\u001b[0m \u001b[0;34m\u001b[0m\u001b[0m\n\u001b[0;32m--> 407\u001b[0;31m         \u001b[0mscl\u001b[0m \u001b[0;34m=\u001b[0m \u001b[0mwgt\u001b[0m\u001b[0;34m.\u001b[0m\u001b[0msum\u001b[0m\u001b[0;34m(\u001b[0m\u001b[0maxis\u001b[0m\u001b[0;34m=\u001b[0m\u001b[0maxis\u001b[0m\u001b[0;34m,\u001b[0m \u001b[0mdtype\u001b[0m\u001b[0;34m=\u001b[0m\u001b[0mresult_dtype\u001b[0m\u001b[0;34m)\u001b[0m\u001b[0;34m\u001b[0m\u001b[0;34m\u001b[0m\u001b[0m\n\u001b[0m\u001b[1;32m    408\u001b[0m         \u001b[0;32mif\u001b[0m \u001b[0mnp\u001b[0m\u001b[0;34m.\u001b[0m\u001b[0many\u001b[0m\u001b[0;34m(\u001b[0m\u001b[0mscl\u001b[0m \u001b[0;34m==\u001b[0m \u001b[0;36m0.0\u001b[0m\u001b[0;34m)\u001b[0m\u001b[0;34m:\u001b[0m\u001b[0;34m\u001b[0m\u001b[0;34m\u001b[0m\u001b[0m\n\u001b[1;32m    409\u001b[0m             raise ZeroDivisionError(\n",
      "\u001b[0;32m~/opt/anaconda3/lib/python3.8/site-packages/numpy/core/_methods.py\u001b[0m in \u001b[0;36m_sum\u001b[0;34m(a, axis, dtype, out, keepdims, initial, where)\u001b[0m\n\u001b[1;32m     45\u001b[0m def _sum(a, axis=None, dtype=None, out=None, keepdims=False,\n\u001b[1;32m     46\u001b[0m          initial=_NoValue, where=True):\n\u001b[0;32m---> 47\u001b[0;31m     \u001b[0;32mreturn\u001b[0m \u001b[0mumr_sum\u001b[0m\u001b[0;34m(\u001b[0m\u001b[0ma\u001b[0m\u001b[0;34m,\u001b[0m \u001b[0maxis\u001b[0m\u001b[0;34m,\u001b[0m \u001b[0mdtype\u001b[0m\u001b[0;34m,\u001b[0m \u001b[0mout\u001b[0m\u001b[0;34m,\u001b[0m \u001b[0mkeepdims\u001b[0m\u001b[0;34m,\u001b[0m \u001b[0minitial\u001b[0m\u001b[0;34m,\u001b[0m \u001b[0mwhere\u001b[0m\u001b[0;34m)\u001b[0m\u001b[0;34m\u001b[0m\u001b[0;34m\u001b[0m\u001b[0m\n\u001b[0m\u001b[1;32m     48\u001b[0m \u001b[0;34m\u001b[0m\u001b[0m\n\u001b[1;32m     49\u001b[0m def _prod(a, axis=None, dtype=None, out=None, keepdims=False,\n",
      "\u001b[0;31mTypeError\u001b[0m: No loop matching the specified signature and casting was found for ufunc add"
     ]
    }
   ],
   "source": [
    "stats.gaussian_kde(all_features)"
   ]
  },
  {
   "cell_type": "code",
   "execution_count": null,
   "metadata": {},
   "outputs": [],
   "source": []
  }
 ],
 "metadata": {
  "kernelspec": {
   "display_name": "Python 3.8.8",
   "language": "python",
   "name": "python3"
  },
  "language_info": {
   "codemirror_mode": {
    "name": "ipython",
    "version": 3
   },
   "file_extension": ".py",
   "mimetype": "text/x-python",
   "name": "python",
   "nbconvert_exporter": "python",
   "pygments_lexer": "ipython3",
   "version": "3.8.8"
  },
  "orig_nbformat": 4,
  "vscode": {
   "interpreter": {
    "hash": "1a2c081ab79233eef81851a0f915c54ec256343befc026786e3e18bde51bf24c"
   }
  }
 },
 "nbformat": 4,
 "nbformat_minor": 2
}
