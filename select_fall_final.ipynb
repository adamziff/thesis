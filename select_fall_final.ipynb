{
 "cells": [
  {
   "cell_type": "code",
   "execution_count": 1,
   "metadata": {},
   "outputs": [
    {
     "name": "stdout",
     "output_type": "stream",
     "text": [
      "Requirement already satisfied: spotipy in /opt/anaconda3/lib/python3.9/site-packages (2.21.0)\n",
      "Requirement already satisfied: redis>=3.5.3 in /opt/anaconda3/lib/python3.9/site-packages (from spotipy) (4.3.4)\n",
      "Requirement already satisfied: requests>=2.25.0 in /opt/anaconda3/lib/python3.9/site-packages (from spotipy) (2.28.1)\n",
      "Requirement already satisfied: six>=1.15.0 in /opt/anaconda3/lib/python3.9/site-packages (from spotipy) (1.16.0)\n",
      "Requirement already satisfied: urllib3>=1.26.0 in /opt/anaconda3/lib/python3.9/site-packages (from spotipy) (1.26.13)\n",
      "Requirement already satisfied: async-timeout>=4.0.2 in /opt/anaconda3/lib/python3.9/site-packages (from redis>=3.5.3->spotipy) (4.0.2)\n",
      "Requirement already satisfied: deprecated>=1.2.3 in /opt/anaconda3/lib/python3.9/site-packages (from redis>=3.5.3->spotipy) (1.2.13)\n",
      "Requirement already satisfied: packaging>=20.4 in /opt/anaconda3/lib/python3.9/site-packages (from redis>=3.5.3->spotipy) (21.0)\n",
      "Requirement already satisfied: wrapt<2,>=1.10 in /opt/anaconda3/lib/python3.9/site-packages (from deprecated>=1.2.3->redis>=3.5.3->spotipy) (1.12.1)\n",
      "Requirement already satisfied: pyparsing>=2.0.2 in /opt/anaconda3/lib/python3.9/site-packages (from packaging>=20.4->redis>=3.5.3->spotipy) (3.0.4)\n",
      "Requirement already satisfied: certifi>=2017.4.17 in /opt/anaconda3/lib/python3.9/site-packages (from requests>=2.25.0->spotipy) (2021.10.8)\n",
      "Requirement already satisfied: charset-normalizer<3,>=2 in /opt/anaconda3/lib/python3.9/site-packages (from requests>=2.25.0->spotipy) (2.0.4)\n",
      "Requirement already satisfied: idna<4,>=2.5 in /opt/anaconda3/lib/python3.9/site-packages (from requests>=2.25.0->spotipy) (3.2)\n",
      "Note: you may need to restart the kernel to use updated packages.\n"
     ]
    }
   ],
   "source": [
    "pip install spotipy"
   ]
  },
  {
   "cell_type": "code",
   "execution_count": 2,
   "metadata": {},
   "outputs": [
    {
     "name": "stdout",
     "output_type": "stream",
     "text": [
      "Requirement already satisfied: pandas in /opt/anaconda3/lib/python3.9/site-packages (1.3.4)\n",
      "Requirement already satisfied: python-dateutil>=2.7.3 in /opt/anaconda3/lib/python3.9/site-packages (from pandas) (2.8.2)\n",
      "Requirement already satisfied: pytz>=2017.3 in /opt/anaconda3/lib/python3.9/site-packages (from pandas) (2021.3)\n",
      "Requirement already satisfied: numpy>=1.17.3 in /opt/anaconda3/lib/python3.9/site-packages (from pandas) (1.23.1)\n",
      "Requirement already satisfied: six>=1.5 in /opt/anaconda3/lib/python3.9/site-packages (from python-dateutil>=2.7.3->pandas) (1.16.0)\n",
      "Note: you may need to restart the kernel to use updated packages.\n"
     ]
    }
   ],
   "source": [
    "pip install pandas"
   ]
  },
  {
   "cell_type": "code",
   "execution_count": 3,
   "metadata": {},
   "outputs": [
    {
     "name": "stdout",
     "output_type": "stream",
     "text": [
      "Requirement already satisfied: urllib3 in /opt/anaconda3/lib/python3.9/site-packages (1.26.13)\n",
      "Note: you may need to restart the kernel to use updated packages.\n",
      "Requirement already satisfied: requests in /opt/anaconda3/lib/python3.9/site-packages (2.28.1)\n",
      "Requirement already satisfied: urllib3<1.27,>=1.21.1 in /opt/anaconda3/lib/python3.9/site-packages (from requests) (1.26.13)\n",
      "Requirement already satisfied: certifi>=2017.4.17 in /opt/anaconda3/lib/python3.9/site-packages (from requests) (2021.10.8)\n",
      "Requirement already satisfied: idna<4,>=2.5 in /opt/anaconda3/lib/python3.9/site-packages (from requests) (3.2)\n",
      "Requirement already satisfied: charset-normalizer<3,>=2 in /opt/anaconda3/lib/python3.9/site-packages (from requests) (2.0.4)\n",
      "Note: you may need to restart the kernel to use updated packages.\n",
      "Requirement already satisfied: spotipy in /opt/anaconda3/lib/python3.9/site-packages (2.21.0)\n",
      "Requirement already satisfied: six>=1.15.0 in /opt/anaconda3/lib/python3.9/site-packages (from spotipy) (1.16.0)\n",
      "Requirement already satisfied: urllib3>=1.26.0 in /opt/anaconda3/lib/python3.9/site-packages (from spotipy) (1.26.13)\n",
      "Requirement already satisfied: redis>=3.5.3 in /opt/anaconda3/lib/python3.9/site-packages (from spotipy) (4.3.4)\n",
      "Requirement already satisfied: requests>=2.25.0 in /opt/anaconda3/lib/python3.9/site-packages (from spotipy) (2.28.1)\n",
      "Requirement already satisfied: async-timeout>=4.0.2 in /opt/anaconda3/lib/python3.9/site-packages (from redis>=3.5.3->spotipy) (4.0.2)\n",
      "Requirement already satisfied: deprecated>=1.2.3 in /opt/anaconda3/lib/python3.9/site-packages (from redis>=3.5.3->spotipy) (1.2.13)\n",
      "Requirement already satisfied: packaging>=20.4 in /opt/anaconda3/lib/python3.9/site-packages (from redis>=3.5.3->spotipy) (21.0)\n",
      "Requirement already satisfied: wrapt<2,>=1.10 in /opt/anaconda3/lib/python3.9/site-packages (from deprecated>=1.2.3->redis>=3.5.3->spotipy) (1.12.1)\n",
      "Requirement already satisfied: pyparsing>=2.0.2 in /opt/anaconda3/lib/python3.9/site-packages (from packaging>=20.4->redis>=3.5.3->spotipy) (3.0.4)\n",
      "Requirement already satisfied: certifi>=2017.4.17 in /opt/anaconda3/lib/python3.9/site-packages (from requests>=2.25.0->spotipy) (2021.10.8)\n",
      "Requirement already satisfied: idna<4,>=2.5 in /opt/anaconda3/lib/python3.9/site-packages (from requests>=2.25.0->spotipy) (3.2)\n",
      "Requirement already satisfied: charset-normalizer<3,>=2 in /opt/anaconda3/lib/python3.9/site-packages (from requests>=2.25.0->spotipy) (2.0.4)\n",
      "Note: you may need to restart the kernel to use updated packages.\n"
     ]
    }
   ],
   "source": [
    "%pip install urllib3 --upgrade \n",
    "%pip install requests --upgrade \n",
    "%pip install spotipy --upgrade"
   ]
  },
  {
   "cell_type": "code",
   "execution_count": 4,
   "metadata": {},
   "outputs": [
    {
     "name": "stderr",
     "output_type": "stream",
     "text": [
      "/opt/anaconda3/lib/python3.9/site-packages/scipy/__init__.py:146: UserWarning: A NumPy version >=1.16.5 and <1.23.0 is required for this version of SciPy (detected version 1.23.1\n",
      "  warnings.warn(f\"A NumPy version >={np_minversion} and <{np_maxversion}\"\n"
     ]
    }
   ],
   "source": [
    "# setup\n",
    "import spotipy\n",
    "from spotipy.oauth2 import SpotifyClientCredentials\n",
    "import os\n",
    "import numpy as np\n",
    "import timeit\n",
    "import pandas as pd\n",
    "from operator import itemgetter\n",
    "import time\n",
    "import datetime as dt\n",
    "import scipy.stats as stats\n",
    "import matplotlib.pyplot as plt\n",
    "from sklearn.preprocessing import StandardScaler\n",
    "from sklearn.decomposition import PCA\n",
    "import scipy.spatial.distance as dist\n",
    "import random\n",
    "\n",
    "os.environ['SPOTIPY_CLIENT_ID'] = '3191e7e8b04e46c1af64f49bcdd020be'\n",
    "os.environ['SPOTIPY_CLIENT_SECRET'] = '88dc925eff0d4006bb6d0b9b2401ac59'\n",
    "\n",
    "auth_manager = SpotifyClientCredentials()\n",
    "sp = spotipy.Spotify(auth_manager=auth_manager)"
   ]
  },
  {
   "cell_type": "code",
   "execution_count": 5,
   "metadata": {},
   "outputs": [],
   "source": [
    "# Toxic, Promiscuous, Sk8er Boi, Run It!, Your Love Is My Drug\n",
    "user_0 = ['6I9VzXrHxO9rA9A5euc8Ak', '2gam98EZKrF9XuOkU13ApN', '4omisSlTk6Dsq2iQD7MA07', '7xYnUQigPoIDAMPVK79NEq', '3uoQULcUWfnt6nc6J7Vgai']\n",
    "\n",
    "# This Hell\n",
    "user_1 = ['7aHmvUghK3XCEqNRbUeAn4']\n",
    "\n",
    "# Down (Jay Sean), INDUSTRY BABY\n",
    "user_2 = ['7LP4Es66zdY7CyjepqmvAg', '27NovPIUIRrOZoCHxABJwK']\n",
    "\n",
    "# Pepas, Me Porto Bonito, Tití Me Preguntó\n",
    "user_3 = ['5fwSHlTEWpluwOM0Sxnh5k', '6Sq7ltF9Qa7SNFBsV5Cogx', '1IHWl5LamUGEuP4ozKQSXZ']\n",
    "\n",
    "# All Night Longer, Mr. Brightside, No Hands, HUMBLE\n",
    "user_4 = ['1vNn7rVQT6UtEW1NGH53fT', '003vvx7Niy0yvhvHt4a68B', '03tqyYWC9Um2ZqU0ZN849H', '7KXjTSCq5nL1LoYtL7XAwS']\n",
    "\n",
    "# S&M, Get Into It (Yuh), Only Girl In The World, Gimme Gimme Gimme, Don't Start Now\n",
    "user_5 = ['7ySUcLPVX7KudhnmNcgY2D', '4V5siYO9zHpLX5qf2F0qBV', '1VDXQhu7YGdbM6UeEIfsaX', '7lkeI7MsLOZ5gyh9ejaf3W', '6WrI0LAC5M1Rw2MnX2ZvEg']\n",
    "\n",
    "# In The Party (Flo Milli), Tap In (Saweetie), Woman (Doja Cat), Only, Hot Girl (Megan Thee Stallion)\n",
    "user_6 = ['52BJrldggFQyTiW8XrILhO', '4Hpib09wXgD84w4uwTPnYD', '6Uj1ctrBOjOas8xZXGqKk4', '4MRT0dDbhqFKl67WzhUbSw', '2Xc9MR2NMc5IKPFKaEjt1k']\n",
    "\n",
    "# Love Story, You Belong With Me, Starships, Super Bass, Since U Been Gone\n",
    "user_7 = ['3CeCwYWvdfXbZLXFhBrbnf', '1qrpoAMXodY6895hGKoUpA', '1oHNvJVbFkexQc0BpQp7Y4', '3hlksXnvbKogFdPbpO9vel', '3xrn9i8zhNZsTtcoWgQEAd']\n",
    "\n",
    "# A Milli, 6 Foot 7 Foot, Money In The Grave, Jimmy Cooks\n",
    "user_8 = ['6ScJMrlpiLfZUGtWp4QIVt', '5Qy6a5KzM4XlRxsNcGYhgH', '5ry2OE6R2zPQFDO85XkgRb', '3F5CgOj3wFlRv51JsHbxhe']\n",
    "\n",
    "# BREAK MY SOUL, PURE/HONEY, ALIEN SUPERSTAR\n",
    "user_9 = ['5pyoxDZ1PX0KxBxiRVxA4U', '4DByEumlGTZKSzuVEZ35eo', '1Hohk6AufHZOrrhMXZppax']\n",
    "\n",
    "# The Baddest, Let's Get Weird, Astro Funk, Griztronics II, Tie Dye Sky\n",
    "user_10 = ['2xOrdBxmf58MfWbe3JXxlM', '0NQVIXbk5AIHzNrBdlcTP9', '7wRzUAw0Npu4CalkDIFHJE', '2il9NDpW87Hk2L9AjeDf8r', '2YZSTgWXEyDPUeKop4eiWo']\n",
    "\n",
    "# Mozart\n",
    "user_11 = ['429GaRIWKJ3EU1GAQPbLcr']\n",
    "\n",
    "# Can't Hold Us, Feel This Moment, Give Me Everything\n",
    "user_12 = ['3bidbhpOYeV4knp8AIu8Xn', '0Hf4aIJpsN4Os2f0y0VqWl', '4QNpBfC0zvjKqPJcyqBy9W']\n",
    "\n",
    "# Timber, Last Friday Night\n",
    "user_13 = ['3cHyrEgdyYRjgJKSOiOtcS', '3avYqdwHKEq8beXbeWCKqJ']\n",
    "\n",
    "# DJ Got Us Fallin In Love, Down Jay Sean, I Love It, Timber\n",
    "user_14 = ['28AUzRo0nQLESL55WDV0um', '7LP4Es66zdY7CyjepqmvAg', '6HZ9VeI5IRFCNQLXhpF4bq', '3cHyrEgdyYRjgJKSOiOtcS']\n",
    "\n",
    "users = [user_0, user_1, user_2, user_3, user_4, user_5, user_6, user_7, user_8, user_9, user_10, user_11, user_12, user_13, user_14]"
   ]
  },
  {
   "cell_type": "code",
   "execution_count": 6,
   "metadata": {},
   "outputs": [],
   "source": [
    "def print_tracks(uris):\n",
    "    #recurse through all uris\n",
    "    if len(uris) > 50:\n",
    "        num_sets = int(len(uris)/50)\n",
    "        for i in range(num_sets):\n",
    "            print_tracks(uris[50*i:50*(i+1)])\n",
    "        if len(uris)%50 != 0:\n",
    "            print_tracks(uris[50*num_sets:])\n",
    "        return\n",
    "\n",
    "    # collect chosen tracks\n",
    "    chosen_tracks = sp.tracks(uris)\n",
    "    chosen_tracks_dict = pd.DataFrame(chosen_tracks['tracks'])\n",
    "    chosen_tracks_names = chosen_tracks_dict['name']\n",
    "    chosen_artists_dict = chosen_tracks_dict['artists']\n",
    "    chosen_artists = []\n",
    "    for song in chosen_artists_dict:\n",
    "        a = []\n",
    "        for artist in song:\n",
    "            a.append(artist['name'])\n",
    "        chosen_artists.append(a)\n",
    "\n",
    "    # print chosen tracks\n",
    "    for i in range(len(chosen_tracks_names)):\n",
    "        chosen_artists_string = ''\n",
    "        for j in range(len(chosen_artists[i])):\n",
    "            # print(artist)\n",
    "            chosen_artists_string += chosen_artists[i][j]\n",
    "            if j < len(chosen_artists[i])-1:\n",
    "                chosen_artists_string += ', '\n",
    "        print(chosen_tracks_names[i] + ' by ' + chosen_artists_string)"
   ]
  },
  {
   "cell_type": "code",
   "execution_count": 7,
   "metadata": {},
   "outputs": [],
   "source": [
    "# Scale features to range of [-1,1]\n",
    "def scale_features(features, cols):\n",
    "    scaler = StandardScaler()\n",
    "    scaler.fit(features)\n",
    "    scaled_features = pd.DataFrame(scaler.transform(features))\n",
    "    scaled_features.columns = cols\n",
    "    return scaled_features, scaler"
   ]
  },
  {
   "cell_type": "code",
   "execution_count": 8,
   "metadata": {},
   "outputs": [],
   "source": [
    "NUM_RECOMMENDATIONS = 100\n",
    "def get_recommendations(uris):\n",
    "    recommendations_uris = pd.DataFrame(sp.recommendations(seed_tracks=uris, limit=NUM_RECOMMENDATIONS)['tracks'])['uri']\n",
    "    return sp.audio_features(recommendations_uris)"
   ]
  },
  {
   "cell_type": "code",
   "execution_count": 9,
   "metadata": {},
   "outputs": [],
   "source": [
    "MS_IN_DAY = 86400\n",
    "# get artist, artist genres, popularity, date\n",
    "def get_track_values(uris):\n",
    "    # return values are messed up - gotta pass through the return values!!\n",
    "    extra_uris = []\n",
    "    if len(uris) > 50:\n",
    "        extra_uris = uris[50:]\n",
    "        uris = uris[:50]\n",
    "\n",
    "    # collect chosen tracks\n",
    "    tracks = sp.tracks(uris)\n",
    "    tracks_dict = pd.DataFrame(tracks['tracks'])\n",
    "\n",
    "    popularity = list(tracks_dict['popularity'])\n",
    "    names = list(tracks_dict['name'])\n",
    "\n",
    "    artists_dict = tracks_dict['artists']\n",
    "    artists = []\n",
    "    for song in artists_dict:\n",
    "        a = []\n",
    "        for artist in song:\n",
    "            a.append(artist['name'])\n",
    "        artists.append(a)\n",
    "\n",
    "    # get genres\n",
    "    # flatten artists list, make sure len < 50, get genres - prob separate method\n",
    "\n",
    "    albums_dict = pd.DataFrame(tracks_dict['album'].to_list())\n",
    "    unconverted_dates = albums_dict['release_date']\n",
    "    dates = []\n",
    "    # datetime conversion\n",
    "    for date in unconverted_dates:\n",
    "        while len(date) < 10:\n",
    "            date += '-01'\n",
    "        ms_date = dt.datetime.timestamp(dt.datetime.strptime(date,\"%Y-%m-%d\"))\n",
    "        dates.append(ms_date / MS_IN_DAY)\n",
    "    \n",
    "    track_values = [artists, popularity, dates, names]\n",
    "    \n",
    "    if len(extra_uris) > 0:\n",
    "        recur_values = get_track_values(extra_uris)\n",
    "        for i in range(len(track_values)):\n",
    "            track_values[i].extend(recur_values[i])\n",
    "    return track_values"
   ]
  },
  {
   "cell_type": "code",
   "execution_count": 10,
   "metadata": {},
   "outputs": [],
   "source": [
    "CHOSEN_FEATURES_WEIGHT = 100\n",
    "# function to get audio features, gkde, and scaler from a set of 1-5 URIs\n",
    "def get_values(uris, print_songs = False):\n",
    "    assert(len(uris) <= 5)\n",
    "\n",
    "    # Get audio features for user's chosen tracks from Spotify API\n",
    "    chosen_features = sp.audio_features(uris)\n",
    "    \n",
    "    if print_songs:\n",
    "        print('Chosen Tracks:')\n",
    "        print_tracks(uris)\n",
    "        print()\n",
    "\n",
    "    # Get audio features for user's recommended tracks from Spotify API\n",
    "    recommendations_features = get_recommendations(uris)\n",
    "    if print_songs:\n",
    "        print('Recommended Tracks: ')\n",
    "        print_tracks(pd.DataFrame(recommendations_features)['uri'])\n",
    "        print()\n",
    "    \n",
    "    # Create unweighted list of all features\n",
    "    unweighted_features = pd.DataFrame(chosen_features + recommendations_features)\n",
    "    unweighted_features = unweighted_features.drop(['key', 'loudness', 'mode', 'type', 'id', 'uri', 'track_href', 'analysis_url', 'duration_ms', 'time_signature'], axis=1)\n",
    "\n",
    "    # Create weighted list of all features favoring chosen features\n",
    "    weighted_features = pd.DataFrame(chosen_features * CHOSEN_FEATURES_WEIGHT + recommendations_features)\n",
    "    weighted_features = weighted_features.drop(['key', 'loudness', 'mode', 'type', 'id', 'uri', 'track_href', 'analysis_url', 'duration_ms', 'time_signature'], axis=1)\n",
    "\n",
    "    recommendations_uris = pd.DataFrame(recommendations_features)['uri']\n",
    "\n",
    "    return unweighted_features, weighted_features, recommendations_uris\n",
    "    # return unweighted_features, unweighted_scaler, weighted_features, weighted_scaler, recommendations_uris"
   ]
  },
  {
   "cell_type": "code",
   "execution_count": 11,
   "metadata": {},
   "outputs": [],
   "source": [
    "ARTIST_PENALTY = 0.05\n",
    "# evaluate using cosine distance\n",
    "def evaluate(uri, user_avg, eval_artists, scale_mean, scale_var):\n",
    "    # get audio features\n",
    "    features = pd.DataFrame(sp.audio_features(uri))\n",
    "    features = features.drop(['key', 'loudness', 'mode', 'type', 'id', 'uri', 'track_href', 'analysis_url', 'duration_ms', 'time_signature'], axis=1)\n",
    "    artists, popularity, dates, _ = get_track_values([uri])\n",
    "    features['popularity'] = popularity\n",
    "    features['date'] = dates\n",
    "    artists = artists[0]\n",
    "\n",
    "    # scale the features array\n",
    "    features = (features - scale_mean) / np.sqrt(scale_var)\n",
    "\n",
    "    penalty = 1\n",
    "    artist_included = any(a in eval_artists for a in artists)\n",
    "    if not artist_included:\n",
    "        penalty += ARTIST_PENALTY\n",
    "        # print('Penalized')\n",
    "    \n",
    "    return dist.cosine(features, user_avg) * ARTIST_PENALTY"
   ]
  },
  {
   "cell_type": "code",
   "execution_count": 12,
   "metadata": {},
   "outputs": [],
   "source": [
    "def get_features(uris):\n",
    "    n = len(uris)\n",
    "    uf, wf, rec_uris = get_values(uris)\n",
    "    artists, popularity, dates, names = get_track_values(uris + list(rec_uris))\n",
    "    # rec_uris_list = rec_uris_list.append(rec_uris)\n",
    "\n",
    "    # add to uf\n",
    "    uf['popularity'] = popularity\n",
    "    uf['date'] = dates\n",
    "\n",
    "    # add to wf in a weighted way\n",
    "    wf['popularity'] = (popularity[:n] * CHOSEN_FEATURES_WEIGHT) + popularity[n:]\n",
    "    wf['date'] = (dates[:n] * CHOSEN_FEATURES_WEIGHT) + dates[n:]\n",
    "    \n",
    "    return uf, wf, rec_uris, artists, names"
   ]
  },
  {
   "cell_type": "code",
   "execution_count": 13,
   "metadata": {},
   "outputs": [],
   "source": [
    "# set up utility function for each user\n",
    "# take the average over all user's features then calculate distance to that\n",
    "# get all features, scale, take average\n",
    "def get_utilfuncs_and_allsongs(users_uris):\n",
    "    all_unweighted_features = pd.DataFrame()\n",
    "    all_weighted_features = pd.DataFrame()\n",
    "\n",
    "    n = len(users_uris)\n",
    "\n",
    "    all_uris_list = []\n",
    "    artists_list = []\n",
    "    names_list = []\n",
    "\n",
    "    for i in range(n):\n",
    "        uf, wf, rec_uris, artists, names = get_features(users[i])\n",
    "\n",
    "        all_unweighted_features = pd.concat([all_unweighted_features, uf])\n",
    "        all_weighted_features = pd.concat([all_weighted_features, wf])\n",
    "        all_uris_list.extend(users[i])\n",
    "        all_uris_list.extend(rec_uris)\n",
    "        artists_list.append(artists)\n",
    "        names_list.append(names[:len(users_uris[i])])\n",
    "\n",
    "    # display(all_unweighted_features.iloc[[1,2,3]])\n",
    "    # get scalers - can make this more efficient by just scaling everything in the scale_features function\n",
    "    all_unweighted_features, _ = scale_features(all_unweighted_features, all_unweighted_features.columns) \n",
    "    # _, weighted_scaler = scale_features(all_weighted_features) # unweighted or weighted?\n",
    "    # u_mean, u_var = unweighted_scaler.mean_, unweighted_scaler.var_\n",
    "    # display(all_unweighted_features.iloc[[1,2,3]])\n",
    "\n",
    "    u_start_index = 0\n",
    "    w_start_index = 0\n",
    "\n",
    "    u_user_avgs = []\n",
    "    w_user_avgs = []\n",
    "\n",
    "    for i in range(n):\n",
    "        # get user's features\n",
    "        u_end_index = u_start_index + NUM_RECOMMENDATIONS + len(users_uris[i])\n",
    "        w_end_index = w_start_index + NUM_RECOMMENDATIONS + (len(users_uris[i] * CHOSEN_FEATURES_WEIGHT))\n",
    "\n",
    "        uf = all_unweighted_features.iloc[u_start_index:u_end_index]\n",
    "        wf = all_weighted_features.iloc[w_start_index:w_end_index]\n",
    "\n",
    "        # scale features\n",
    "        # uf = (uf - u_mean) / np.sqrt(u_var)\n",
    "        # wf = (wf - u_mean) / np.sqrt(u_var)\n",
    "        \n",
    "        u_start_index = u_end_index\n",
    "        w_start_index = w_end_index\n",
    "\n",
    "        # take the average of uf and wf, add to array of average vectors\n",
    "        u_user_avgs.append(np.mean(uf, axis=0))\n",
    "        w_user_avgs.append(np.mean(wf, axis=0))\n",
    "\n",
    "    # all_unweighted_features['uri'] = all_uris_list\n",
    "    \n",
    "    return u_user_avgs, w_user_avgs, all_unweighted_features, np.array(all_uris_list)"
   ]
  },
  {
   "cell_type": "code",
   "execution_count": 14,
   "metadata": {},
   "outputs": [],
   "source": [
    "# NEW VERSION: calculate the distance from every average to every song\n",
    "def calculate_distances(avgs, songs):\n",
    "    # print(avgs)\n",
    "    # print(songs)\n",
    "    dists = pd.DataFrame()\n",
    "    for i in range(len(avgs)):\n",
    "        user_dists = []\n",
    "        # print('min dist for user ', i)\n",
    "        for j, song in songs.iterrows():\n",
    "            # print(avgs[i])\n",
    "            # print(song)\n",
    "            d = dist.cosine(avgs[i], song)\n",
    "            # print('dist =', d)\n",
    "            user_dists.append(d)\n",
    "        dists[i] = user_dists\n",
    "    return dists"
   ]
  },
  {
   "cell_type": "code",
   "execution_count": 15,
   "metadata": {},
   "outputs": [],
   "source": [
    "# sigmoid function with beta parameter weighting\n",
    "# it might be descending too quickly\n",
    "def sigmoid(x, beta):\n",
    "    # s = 1 / (1 + np.exp(-x))\n",
    "    # print(x*beta)\n",
    "    x = max(x*beta, -709)\n",
    "    s = 1 / (1 + np.exp(-x))\n",
    "    # print(s)\n",
    "    return s"
   ]
  },
  {
   "cell_type": "code",
   "execution_count": 49,
   "metadata": {},
   "outputs": [],
   "source": [
    "# Sort selected tracks by energy\n",
    "def sort_by_energy(features, uris, energy_curve):\n",
    "    sorted_features = features.sort_values(by='energy')\n",
    "    sorted_features['uri'] = uris\n",
    "\n",
    "    songs_per_iter = int(len(uris) / len(energy_curve))\n",
    "    remainder = len(uris) % len(energy_curve)\n",
    "\n",
    "    argsort_energy = np.argsort(energy_curve)\n",
    "    print(energy_curve)\n",
    "    print(argsort_energy)\n",
    "\n",
    "    chosen_ordered_features = pd.DataFrame()\n",
    "    argsort_dict = {}\n",
    "\n",
    "    len_energy = len(energy_curve)\n",
    "\n",
    "    for i in range(len_energy):\n",
    "        start = i * songs_per_iter\n",
    "        end = start + songs_per_iter\n",
    "        if i == len_energy-1:\n",
    "            end += remainder\n",
    "        argsort_dict[argsort_energy[i]] = sorted_features.iloc[start:end]\n",
    "\n",
    "    for i in range(len_energy):\n",
    "        if i < len_energy-1 and energy_curve[i] <= energy_curve[i+1]:\n",
    "            chosen_ordered_features = pd.concat([chosen_ordered_features, argsort_dict[i]])\n",
    "        elif i < len_energy-1:\n",
    "            chosen_ordered_features = pd.concat([chosen_ordered_features, argsort_dict[i][::-1]])\n",
    "        elif energy_curve[i] > energy_curve[i-1]:\n",
    "            chosen_ordered_features = pd.concat([chosen_ordered_features, argsort_dict[i]])\n",
    "        else:\n",
    "            chosen_ordered_features = pd.concat([chosen_ordered_features, argsort_dict[i][::-1]])\n",
    "    \n",
    "    return chosen_ordered_features"
   ]
  },
  {
   "cell_type": "code",
   "execution_count": 81,
   "metadata": {},
   "outputs": [],
   "source": [
    "# SORT! min dist indices\n",
    "# currently using weighted as default\n",
    "def select_songs_sort(users_uris, energy_curve, weighted=True):\n",
    "    u_user_avgs, w_user_avgs, all_features, all_uris_list = get_utilfuncs_and_allsongs(users_uris)\n",
    "    all_features = all_features.drop_duplicates()\n",
    "    all_uris_list = np.array(list(dict.fromkeys(all_uris_list)))\n",
    "\n",
    "    if weighted:\n",
    "        avgs = w_user_avgs\n",
    "    else:\n",
    "        avgs = u_user_avgs\n",
    "\n",
    "    all_dists = calculate_distances(avgs, all_features)\n",
    "    indices_sorted_by_min_dist = np.argsort(all_dists, axis=0)\n",
    "    # use these sorted indices to choose songs (both add and remove)\n",
    "    # use all_dists to sum distances so i don't have to recalculate them\n",
    "\n",
    "    n = len(all_features)\n",
    "    # needs to adjust dynamically to length\n",
    "    # NUM_SONGS_TO_SELECT = 10\n",
    "\n",
    "    # start with random set of songs - selected array is indices of selected songs\n",
    "    selected_ind = random.sample(range(n), NUM_SONGS_TO_SELECT) #TODO: choose each user's favorite song(s)\n",
    "\n",
    "    # loop until done\n",
    "    done = False\n",
    "    t = 0\n",
    "    selected_changed = True\n",
    "    new_song_ind = 0\n",
    "    maximin_user_dict = {}\n",
    "    for i in range(len(users_uris)):\n",
    "        maximin_user_dict[i] = 0\n",
    "    maximin_dist_list = []\n",
    "\n",
    "    while not done:\n",
    "        # print('t =', t)\n",
    "        # calculate sum of user utilities for every song in the set\n",
    "        if selected_changed:\n",
    "            # for every user, their current dist is the sum of all_dists[user][selected_ind]\n",
    "            current_selected_song_dists = all_dists.iloc[selected_ind]\n",
    "            current_user_dist_sums = np.sum(current_selected_song_dists, axis=0)\n",
    "            current_maximin = max(current_user_dist_sums)\n",
    "            # print('current maximin =', current_maximin)\n",
    "            current_maximin_user = np.argmax(current_user_dist_sums)\n",
    "            selected_changed = False\n",
    "            maximin_user_dict[current_maximin_user] += 1\n",
    "        \n",
    "        # print('current max dist user:', current_maximin_user)\n",
    "        maximin_dist_list.append(current_maximin)\n",
    "        \n",
    "        if new_song_ind == n:\n",
    "            print('sort solved')\n",
    "            break\n",
    "        while indices_sorted_by_min_dist[current_maximin_user].iloc[new_song_ind] in selected_ind and new_song_ind < n-1:\n",
    "            new_song_ind += 1\n",
    "        new_selected_song = indices_sorted_by_min_dist[current_maximin_user].iloc[new_song_ind]\n",
    "\n",
    "        # pick removed song: loop through all selected songs, try removing all until one improves the set\n",
    "        for i in range(NUM_SONGS_TO_SELECT):\n",
    "            removed_selected = i\n",
    "\n",
    "            # update new selected indices\n",
    "            new_selected_ind = selected_ind.copy()\n",
    "            new_selected_ind[removed_selected] = new_selected_song\n",
    "\n",
    "            # recalculate sum of user utilities\n",
    "            new_selected_song_dists = all_dists.iloc[new_selected_ind]\n",
    "            new_user_dist_sums = np.sum(new_selected_song_dists, axis=0)\n",
    "            new_maximin = max(new_user_dist_sums)\n",
    "            new_maximin_user = np.argmax(new_user_dist_sums)\n",
    "            # print(new_dists)\n",
    "\n",
    "            # determine whether to edit selected_ind list\n",
    "            if new_maximin < current_maximin:\n",
    "                # print('edited')\n",
    "                # print(selected_ind)\n",
    "                selected_ind[removed_selected] = new_selected_song\n",
    "                # print(selected_ind)\n",
    "                selected_changed = True\n",
    "                # print('new max dist user:', new_maximin_user)\n",
    "                new_song_ind = 0\n",
    "                break\n",
    "            elif random.random() < sigmoid(current_maximin-new_maximin, t):\n",
    "                # print('randomly edited')\n",
    "                selected_ind[removed_selected] = new_selected_song\n",
    "                selected_changed = True\n",
    "                # print('new max dist user:', new_maximin_user)\n",
    "                new_song_ind = 0\n",
    "                break\n",
    "\n",
    "        if not selected_changed:\n",
    "            new_song_ind += 1\n",
    "\n",
    "\n",
    "        # check if done\n",
    "        # if np.sum(iter_dist_sums) < 0:\n",
    "        if t > 10000:\n",
    "            done = True\n",
    "        t += 1\n",
    "        # print()\n",
    "\n",
    "    ordered_tracks = sort_by_energy(all_features.iloc[selected_ind], all_uris_list[selected_ind], energy_curve)\n",
    "    # scale these columns back to [0, 1]\n",
    "    columns_to_scale = ['danceability', 'energy', 'speechiness', 'acousticness', 'instrumentalness', 'liveness', 'valence']\n",
    "    for col in columns_to_scale:\n",
    "        ordered_tracks[col] += abs(min(ordered_tracks[col]))\n",
    "        ordered_tracks[col] /= max(ordered_tracks[col])\n",
    "\n",
    "    return ordered_tracks, maximin_dist_list, maximin_user_dict\n"
   ]
  },
  {
   "cell_type": "code",
   "execution_count": 82,
   "metadata": {},
   "outputs": [
    {
     "name": "stdout",
     "output_type": "stream",
     "text": [
      "sort solved\n",
      "[0.3, 0.6, 0.8, 0.5]\n",
      "[0 3 1 2]\n",
      "979     0.000000\n",
      "182     0.019830\n",
      "142     0.028329\n",
      "254     0.164306\n",
      "172     0.195467\n",
      "1001    0.240793\n",
      "141     0.277620\n",
      "982     0.450425\n",
      "273     0.461756\n",
      "1018    0.470255\n",
      "204     0.501416\n",
      "123     0.512748\n",
      "953     0.529745\n",
      "1002    0.543909\n",
      "1031    1.000000\n",
      "543     0.929178\n",
      "105     0.762040\n",
      "1017    0.708215\n",
      "179     0.628895\n",
      "1233    0.569405\n",
      "361     0.569405\n",
      "396     0.560907\n",
      "1005    0.552408\n",
      "106     0.441926\n",
      "131     0.439093\n",
      "122     0.402266\n",
      "183     0.390935\n",
      "109     0.348442\n",
      "673     0.334278\n",
      "135     0.286119\n",
      "Name: energy, dtype: float64\n",
      "Follow Me by Pabllo Vittar, Rina Sawayama\n",
      "Turnt by The-Dream, Beyoncé, 2 Chainz\n",
      "Breathing by Jason Derulo\n",
      "inferno by ELIO\n",
      "Vitamins by ELIO\n",
      "Showed Me (How I Fell In Love With You) by Madison Beer\n",
      "Anything But Me by MUNA\n",
      "Comme des Garçons (Like the Boys) [Brabo Remix feat. Pabllo Vittar] by Rina Sawayama, Pabllo Vittar, Brabo\n",
      "GAGA by Grace Gaustad\n",
      "This Hell by Rina Sawayama\n",
      "I F*cking Love You by Zolita\n",
      "NOT SOBER (feat. Polo G & Stunna Gambino) by The Kid LAROI, Polo G, Stunna Gambino\n",
      "Your Wish Is My Command by Kim Petras\n",
      "When U Saw Love by ELIO\n",
      "All Night by Beyoncé\n",
      "Play by Alewya\n",
      "Something in the Water by Boys World\n",
      "This Is Why by Paramore\n",
      "Love Back by Why Don't We\n",
      "DOS MORRITAS by Eslabon Armado, Junior H\n",
      "4U by Ofenbach\n",
      "I Love You Bitch by Lizzo\n",
      "Waterfall by Disclosure, RAYE\n",
      "Lesbionic by Gia Woods\n",
      "Pepas - Robin Schulz Remix by Farruko, Robin Schulz\n",
      "Bejeweled by Taylor Swift\n",
      "No One Dies From Love by Tove Lo\n",
      "Hot N Heavy by Jessie Ware\n",
      "Step On Up by Ariana Grande\n",
      "Naked in Manhattan by Chappell Roan\n"
     ]
    }
   ],
   "source": [
    "energy_curve = [0.3, 0.6, 0.8, 0.5]\n",
    "\n",
    "# parameters\n",
    "NUM_RECOMMENDATIONS = 100\n",
    "ARTIST_PENALTY = 0.05\n",
    "NUM_SONGS_TO_SELECT = 30\n",
    "# users = [user_0, user_1, user_2, user_3, user_4, user_5, user_6, user_7, user_8, user_9, user_10, user_11, user_12, user_13, user_14]\n",
    "users = [user_0, user_1, user_2, user_3, user_4, user_5, user_6, user_7, user_8, user_9, user_10, user_12, user_13, user_14]\n",
    "# users = [user_12, user_13, user_14]\n",
    "\n",
    "tracks, mm_dists, mm_users = select_songs_sort(users, energy_curve, weighted=True)\n",
    "print(tracks['energy'])\n",
    "print_tracks(tracks['uri'])"
   ]
  },
  {
   "cell_type": "code",
   "execution_count": 83,
   "metadata": {},
   "outputs": [],
   "source": [
    "import matplotlib.pyplot as plt"
   ]
  },
  {
   "cell_type": "code",
   "execution_count": 84,
   "metadata": {},
   "outputs": [],
   "source": [
    "tracks.index = range(len(tracks))"
   ]
  },
  {
   "cell_type": "code",
   "execution_count": 85,
   "metadata": {},
   "outputs": [
    {
     "data": {
      "text/plain": [
       "[<matplotlib.lines.Line2D at 0x7ff5721f5700>]"
      ]
     },
     "execution_count": 85,
     "metadata": {},
     "output_type": "execute_result"
    },
    {
     "data": {
      "image/png": "[encoded data removed]",
      "text/plain": [
       "<Figure size 432x288 with 1 Axes>"
      ]
     },
     "metadata": {
      "needs_background": "light"
     },
     "output_type": "display_data"
    }
   ],
   "source": [
    "plt.xlabel('Song Index')\n",
    "plt.ylabel('Energy Level')\n",
    "plt.title('Energy Curve of Playlist')\n",
    "plt.plot(tracks['energy'])"
   ]
  },
  {
   "cell_type": "code",
   "execution_count": 86,
   "metadata": {},
   "outputs": [
    {
     "data": {
      "text/plain": [
       "[<matplotlib.lines.Line2D at 0x7ff5723b1610>]"
      ]
     },
     "execution_count": 86,
     "metadata": {},
     "output_type": "execute_result"
    },
    {
     "data": {
      "image/png": "[encoded data removed]",
      "text/plain": [
       "<Figure size 432x288 with 1 Axes>"
      ]
     },
     "metadata": {
      "needs_background": "light"
     },
     "output_type": "display_data"
    }
   ],
   "source": [
    "plt.xlabel('t')\n",
    "plt.ylabel('Maximin Distance')\n",
    "plt.title('Maximin Distance Over Time')\n",
    "plt.plot(mm_dists)"
   ]
  },
  {
   "cell_type": "code",
   "execution_count": 89,
   "metadata": {},
   "outputs": [
    {
     "data": {
      "text/plain": [
       "<BarContainer object of 14 artists>"
      ]
     },
     "execution_count": 89,
     "metadata": {},
     "output_type": "execute_result"
    },
    {
     "data": {
      "image/png": "[encoded data removed]",
      "text/plain": [
       "<Figure size 432x288 with 1 Axes>"
      ]
     },
     "metadata": {
      "needs_background": "light"
     },
     "output_type": "display_data"
    }
   ],
   "source": [
    "plt.xlabel('User')\n",
    "plt.ylabel('Occurrences')\n",
    "plt.xticks(range(len(mm_users)))\n",
    "plt.title('Number of Occurrences As Maximin User')\n",
    "plt.bar(mm_users.keys(), mm_users.values())"
   ]
  },
  {
   "cell_type": "code",
   "execution_count": null,
   "metadata": {},
   "outputs": [],
   "source": [
    "# TODO: collect stats on which user is maximin user most frequently"
   ]
  },
  {
   "cell_type": "code",
   "execution_count": 39,
   "metadata": {},
   "outputs": [],
   "source": [
    "save_tracks_1 = tracks"
   ]
  },
  {
   "cell_type": "code",
   "execution_count": 62,
   "metadata": {},
   "outputs": [
    {
     "data": {
      "text/html": [
       "<div>\n",
       "<style scoped>\n",
       "    .dataframe tbody tr th:only-of-type {\n",
       "        vertical-align: middle;\n",
       "    }\n",
       "\n",
       "    .dataframe tbody tr th {\n",
       "        vertical-align: top;\n",
       "    }\n",
       "\n",
       "    .dataframe thead th {\n",
       "        text-align: right;\n",
       "    }\n",
       "</style>\n",
       "<table border=\"1\" class=\"dataframe\">\n",
       "  <thead>\n",
       "    <tr style=\"text-align: right;\">\n",
       "      <th></th>\n",
       "      <th>0</th>\n",
       "      <th>1</th>\n",
       "      <th>2</th>\n",
       "    </tr>\n",
       "  </thead>\n",
       "  <tbody>\n",
       "    <tr>\n",
       "      <th>0</th>\n",
       "      <td>0.666667</td>\n",
       "      <td>0.75</td>\n",
       "      <td>0.750</td>\n",
       "    </tr>\n",
       "    <tr>\n",
       "      <th>1</th>\n",
       "      <td>1.000000</td>\n",
       "      <td>1.00</td>\n",
       "      <td>0.875</td>\n",
       "    </tr>\n",
       "    <tr>\n",
       "      <th>2</th>\n",
       "      <td>0.666667</td>\n",
       "      <td>0.50</td>\n",
       "      <td>1.000</td>\n",
       "    </tr>\n",
       "    <tr>\n",
       "      <th>3</th>\n",
       "      <td>0.666667</td>\n",
       "      <td>0.75</td>\n",
       "      <td>0.750</td>\n",
       "    </tr>\n",
       "    <tr>\n",
       "      <th>4</th>\n",
       "      <td>1.000000</td>\n",
       "      <td>1.00</td>\n",
       "      <td>0.875</td>\n",
       "    </tr>\n",
       "    <tr>\n",
       "      <th>5</th>\n",
       "      <td>0.666667</td>\n",
       "      <td>0.50</td>\n",
       "      <td>1.000</td>\n",
       "    </tr>\n",
       "  </tbody>\n",
       "</table>\n",
       "</div>"
      ],
      "text/plain": [
       "          0     1      2\n",
       "0  0.666667  0.75  0.750\n",
       "1  1.000000  1.00  0.875\n",
       "2  0.666667  0.50  1.000\n",
       "3  0.666667  0.75  0.750\n",
       "4  1.000000  1.00  0.875\n",
       "5  0.666667  0.50  1.000"
      ]
     },
     "execution_count": 62,
     "metadata": {},
     "output_type": "execute_result"
    }
   ],
   "source": [
    "a = pd.DataFrame([[1,2,3], [2,3,4], [1,1,5], [1,2,3], [2,3,4], [1,1,5]])\n",
    "for col in a.columns:\n",
    "    a[col] += abs(min(a[col]))\n",
    "    a[col] /= max(a[col])\n",
    "\n",
    "a"
   ]
  },
  {
   "cell_type": "code",
   "execution_count": null,
   "metadata": {},
   "outputs": [],
   "source": []
  }
 ],
 "metadata": {
  "kernelspec": {
   "display_name": "Python 3.9.7",
   "language": "python",
   "name": "python3"
  },
  "language_info": {
   "codemirror_mode": {
    "name": "ipython",
    "version": 3
   },
   "file_extension": ".py",
   "mimetype": "text/x-python",
   "name": "python",
   "nbconvert_exporter": "python",
   "pygments_lexer": "ipython3",
   "version": "3.9.7"
  },
  "orig_nbformat": 4,
  "vscode": {
   "interpreter": {
    "hash": "40d3a090f54c6569ab1632332b64b2c03c39dcf918b08424e98f38b5ae0af88f"
   }
  }
 },
 "nbformat": 4,
 "nbformat_minor": 2
}
